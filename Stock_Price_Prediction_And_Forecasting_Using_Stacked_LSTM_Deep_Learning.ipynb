{
  "nbformat": 4,
  "nbformat_minor": 0,
  "metadata": {
    "colab": {
      "name": "Stock Price Prediction And Forecasting Using Stacked LSTM- Deep Learning",
      "provenance": [],
      "collapsed_sections": []
    },
    "kernelspec": {
      "name": "python3",
      "display_name": "Python 3"
    },
    "language_info": {
      "name": "python"
    }
  },
  "cells": [
    {
      "cell_type": "code",
      "metadata": {
        "id": "CEcMr_rr-UIx"
      },
      "source": [
        ""
      ],
      "execution_count": null,
      "outputs": []
    },
    {
      "cell_type": "code",
      "metadata": {
        "id": "xsmruOZm-vnL"
      },
      "source": [
        "import pandas_datareader as pdr"
      ],
      "execution_count": null,
      "outputs": []
    },
    {
      "cell_type": "code",
      "metadata": {
        "id": "mlZL8iJp-vqK"
      },
      "source": [
        "df = pdr.get_data_tiingo('AAPL', api_key=\"53d43b5cb3908c1239642d555ae02150551cf89d\")"
      ],
      "execution_count": null,
      "outputs": []
    },
    {
      "cell_type": "code",
      "metadata": {
        "id": "NRWM_kOt-vsv"
      },
      "source": [
        "df.to_csv('AAPL.csv')"
      ],
      "execution_count": null,
      "outputs": []
    },
    {
      "cell_type": "code",
      "metadata": {
        "id": "jNxYi1WN-vvt"
      },
      "source": [
        "import pandas as pd"
      ],
      "execution_count": null,
      "outputs": []
    },
    {
      "cell_type": "code",
      "metadata": {
        "id": "nd7n_zAp-vyc"
      },
      "source": [
        "df=pd.read_csv('AAPL.csv')"
      ],
      "execution_count": null,
      "outputs": []
    },
    {
      "cell_type": "code",
      "metadata": {
        "colab": {
          "base_uri": "https://localhost:8080/",
          "height": 206
        },
        "id": "QKBCVvtK-v1H",
        "outputId": "45dcdb4c-b47f-4836-ec31-95d7e12a7ba9"
      },
      "source": [
        "df.head()"
      ],
      "execution_count": null,
      "outputs": [
        {
          "output_type": "execute_result",
          "data": {
            "text/html": [
              "<div>\n",
              "<style scoped>\n",
              "    .dataframe tbody tr th:only-of-type {\n",
              "        vertical-align: middle;\n",
              "    }\n",
              "\n",
              "    .dataframe tbody tr th {\n",
              "        vertical-align: top;\n",
              "    }\n",
              "\n",
              "    .dataframe thead th {\n",
              "        text-align: right;\n",
              "    }\n",
              "</style>\n",
              "<table border=\"1\" class=\"dataframe\">\n",
              "  <thead>\n",
              "    <tr style=\"text-align: right;\">\n",
              "      <th></th>\n",
              "      <th>symbol</th>\n",
              "      <th>date</th>\n",
              "      <th>close</th>\n",
              "      <th>high</th>\n",
              "      <th>low</th>\n",
              "      <th>open</th>\n",
              "      <th>volume</th>\n",
              "      <th>adjClose</th>\n",
              "      <th>adjHigh</th>\n",
              "      <th>adjLow</th>\n",
              "      <th>adjOpen</th>\n",
              "      <th>adjVolume</th>\n",
              "      <th>divCash</th>\n",
              "      <th>splitFactor</th>\n",
              "    </tr>\n",
              "  </thead>\n",
              "  <tbody>\n",
              "    <tr>\n",
              "      <th>0</th>\n",
              "      <td>AAPL</td>\n",
              "      <td>2016-12-05 00:00:00+00:00</td>\n",
              "      <td>109.11</td>\n",
              "      <td>110.03</td>\n",
              "      <td>108.25</td>\n",
              "      <td>110.00</td>\n",
              "      <td>34324540</td>\n",
              "      <td>25.672732</td>\n",
              "      <td>25.889200</td>\n",
              "      <td>25.470380</td>\n",
              "      <td>25.882142</td>\n",
              "      <td>137298160</td>\n",
              "      <td>0.0</td>\n",
              "      <td>1.0</td>\n",
              "    </tr>\n",
              "    <tr>\n",
              "      <th>1</th>\n",
              "      <td>AAPL</td>\n",
              "      <td>2016-12-06 00:00:00+00:00</td>\n",
              "      <td>109.95</td>\n",
              "      <td>110.36</td>\n",
              "      <td>109.19</td>\n",
              "      <td>109.50</td>\n",
              "      <td>26195462</td>\n",
              "      <td>25.870377</td>\n",
              "      <td>25.966847</td>\n",
              "      <td>25.691555</td>\n",
              "      <td>25.764496</td>\n",
              "      <td>104781848</td>\n",
              "      <td>0.0</td>\n",
              "      <td>1.0</td>\n",
              "    </tr>\n",
              "    <tr>\n",
              "      <th>2</th>\n",
              "      <td>AAPL</td>\n",
              "      <td>2016-12-07 00:00:00+00:00</td>\n",
              "      <td>111.03</td>\n",
              "      <td>111.19</td>\n",
              "      <td>109.16</td>\n",
              "      <td>109.26</td>\n",
              "      <td>29998719</td>\n",
              "      <td>26.124493</td>\n",
              "      <td>26.162139</td>\n",
              "      <td>25.684496</td>\n",
              "      <td>25.708025</td>\n",
              "      <td>119994876</td>\n",
              "      <td>0.0</td>\n",
              "      <td>1.0</td>\n",
              "    </tr>\n",
              "    <tr>\n",
              "      <th>3</th>\n",
              "      <td>AAPL</td>\n",
              "      <td>2016-12-08 00:00:00+00:00</td>\n",
              "      <td>112.12</td>\n",
              "      <td>112.43</td>\n",
              "      <td>110.60</td>\n",
              "      <td>110.86</td>\n",
              "      <td>27068316</td>\n",
              "      <td>26.380961</td>\n",
              "      <td>26.453902</td>\n",
              "      <td>26.023317</td>\n",
              "      <td>26.084493</td>\n",
              "      <td>108273264</td>\n",
              "      <td>0.0</td>\n",
              "      <td>1.0</td>\n",
              "    </tr>\n",
              "    <tr>\n",
              "      <th>4</th>\n",
              "      <td>AAPL</td>\n",
              "      <td>2016-12-09 00:00:00+00:00</td>\n",
              "      <td>113.95</td>\n",
              "      <td>114.70</td>\n",
              "      <td>112.31</td>\n",
              "      <td>112.31</td>\n",
              "      <td>34402627</td>\n",
              "      <td>26.811546</td>\n",
              "      <td>26.988015</td>\n",
              "      <td>26.425667</td>\n",
              "      <td>26.425667</td>\n",
              "      <td>137610508</td>\n",
              "      <td>0.0</td>\n",
              "      <td>1.0</td>\n",
              "    </tr>\n",
              "  </tbody>\n",
              "</table>\n",
              "</div>"
            ],
            "text/plain": [
              "  symbol                       date   close  ...  adjVolume  divCash  splitFactor\n",
              "0   AAPL  2016-12-05 00:00:00+00:00  109.11  ...  137298160      0.0          1.0\n",
              "1   AAPL  2016-12-06 00:00:00+00:00  109.95  ...  104781848      0.0          1.0\n",
              "2   AAPL  2016-12-07 00:00:00+00:00  111.03  ...  119994876      0.0          1.0\n",
              "3   AAPL  2016-12-08 00:00:00+00:00  112.12  ...  108273264      0.0          1.0\n",
              "4   AAPL  2016-12-09 00:00:00+00:00  113.95  ...  137610508      0.0          1.0\n",
              "\n",
              "[5 rows x 14 columns]"
            ]
          },
          "metadata": {},
          "execution_count": 8
        }
      ]
    },
    {
      "cell_type": "code",
      "metadata": {
        "colab": {
          "base_uri": "https://localhost:8080/",
          "height": 206
        },
        "id": "h_f6Qjgk-v32",
        "outputId": "b1f38e21-db10-4eb2-caf4-b530f0e738ae"
      },
      "source": [
        "df.tail()"
      ],
      "execution_count": null,
      "outputs": [
        {
          "output_type": "execute_result",
          "data": {
            "text/html": [
              "<div>\n",
              "<style scoped>\n",
              "    .dataframe tbody tr th:only-of-type {\n",
              "        vertical-align: middle;\n",
              "    }\n",
              "\n",
              "    .dataframe tbody tr th {\n",
              "        vertical-align: top;\n",
              "    }\n",
              "\n",
              "    .dataframe thead th {\n",
              "        text-align: right;\n",
              "    }\n",
              "</style>\n",
              "<table border=\"1\" class=\"dataframe\">\n",
              "  <thead>\n",
              "    <tr style=\"text-align: right;\">\n",
              "      <th></th>\n",
              "      <th>symbol</th>\n",
              "      <th>date</th>\n",
              "      <th>close</th>\n",
              "      <th>high</th>\n",
              "      <th>low</th>\n",
              "      <th>open</th>\n",
              "      <th>volume</th>\n",
              "      <th>adjClose</th>\n",
              "      <th>adjHigh</th>\n",
              "      <th>adjLow</th>\n",
              "      <th>adjOpen</th>\n",
              "      <th>adjVolume</th>\n",
              "      <th>divCash</th>\n",
              "      <th>splitFactor</th>\n",
              "    </tr>\n",
              "  </thead>\n",
              "  <tbody>\n",
              "    <tr>\n",
              "      <th>1252</th>\n",
              "      <td>AAPL</td>\n",
              "      <td>2021-11-24 00:00:00+00:00</td>\n",
              "      <td>161.94</td>\n",
              "      <td>162.14</td>\n",
              "      <td>159.6400</td>\n",
              "      <td>160.750</td>\n",
              "      <td>69463623</td>\n",
              "      <td>161.94</td>\n",
              "      <td>162.14</td>\n",
              "      <td>159.6400</td>\n",
              "      <td>160.750</td>\n",
              "      <td>69463623</td>\n",
              "      <td>0.0</td>\n",
              "      <td>1.0</td>\n",
              "    </tr>\n",
              "    <tr>\n",
              "      <th>1253</th>\n",
              "      <td>AAPL</td>\n",
              "      <td>2021-11-26 00:00:00+00:00</td>\n",
              "      <td>156.81</td>\n",
              "      <td>160.45</td>\n",
              "      <td>156.3600</td>\n",
              "      <td>159.565</td>\n",
              "      <td>76959752</td>\n",
              "      <td>156.81</td>\n",
              "      <td>160.45</td>\n",
              "      <td>156.3600</td>\n",
              "      <td>159.565</td>\n",
              "      <td>76959752</td>\n",
              "      <td>0.0</td>\n",
              "      <td>1.0</td>\n",
              "    </tr>\n",
              "    <tr>\n",
              "      <th>1254</th>\n",
              "      <td>AAPL</td>\n",
              "      <td>2021-11-29 00:00:00+00:00</td>\n",
              "      <td>160.24</td>\n",
              "      <td>161.19</td>\n",
              "      <td>158.7901</td>\n",
              "      <td>159.370</td>\n",
              "      <td>88748217</td>\n",
              "      <td>160.24</td>\n",
              "      <td>161.19</td>\n",
              "      <td>158.7901</td>\n",
              "      <td>159.370</td>\n",
              "      <td>88748217</td>\n",
              "      <td>0.0</td>\n",
              "      <td>1.0</td>\n",
              "    </tr>\n",
              "    <tr>\n",
              "      <th>1255</th>\n",
              "      <td>AAPL</td>\n",
              "      <td>2021-11-30 00:00:00+00:00</td>\n",
              "      <td>165.30</td>\n",
              "      <td>165.52</td>\n",
              "      <td>159.9200</td>\n",
              "      <td>159.985</td>\n",
              "      <td>174048056</td>\n",
              "      <td>165.30</td>\n",
              "      <td>165.52</td>\n",
              "      <td>159.9200</td>\n",
              "      <td>159.985</td>\n",
              "      <td>174048056</td>\n",
              "      <td>0.0</td>\n",
              "      <td>1.0</td>\n",
              "    </tr>\n",
              "    <tr>\n",
              "      <th>1256</th>\n",
              "      <td>AAPL</td>\n",
              "      <td>2021-12-01 00:00:00+00:00</td>\n",
              "      <td>164.77</td>\n",
              "      <td>170.30</td>\n",
              "      <td>164.5300</td>\n",
              "      <td>167.480</td>\n",
              "      <td>152423003</td>\n",
              "      <td>164.77</td>\n",
              "      <td>170.30</td>\n",
              "      <td>164.5300</td>\n",
              "      <td>167.480</td>\n",
              "      <td>152423003</td>\n",
              "      <td>0.0</td>\n",
              "      <td>1.0</td>\n",
              "    </tr>\n",
              "  </tbody>\n",
              "</table>\n",
              "</div>"
            ],
            "text/plain": [
              "     symbol                       date   close  ...  adjVolume  divCash  splitFactor\n",
              "1252   AAPL  2021-11-24 00:00:00+00:00  161.94  ...   69463623      0.0          1.0\n",
              "1253   AAPL  2021-11-26 00:00:00+00:00  156.81  ...   76959752      0.0          1.0\n",
              "1254   AAPL  2021-11-29 00:00:00+00:00  160.24  ...   88748217      0.0          1.0\n",
              "1255   AAPL  2021-11-30 00:00:00+00:00  165.30  ...  174048056      0.0          1.0\n",
              "1256   AAPL  2021-12-01 00:00:00+00:00  164.77  ...  152423003      0.0          1.0\n",
              "\n",
              "[5 rows x 14 columns]"
            ]
          },
          "metadata": {},
          "execution_count": 9
        }
      ]
    },
    {
      "cell_type": "code",
      "metadata": {
        "colab": {
          "base_uri": "https://localhost:8080/"
        },
        "id": "GVWkIDt4-v7a",
        "outputId": "863f40f2-58ea-4438-9b56-d7dcd9e08e7c"
      },
      "source": [
        "df.shape"
      ],
      "execution_count": null,
      "outputs": [
        {
          "output_type": "execute_result",
          "data": {
            "text/plain": [
              "(1257, 14)"
            ]
          },
          "metadata": {},
          "execution_count": 10
        }
      ]
    },
    {
      "cell_type": "code",
      "metadata": {
        "id": "uKcG1pKE-v9x"
      },
      "source": [
        "df1=df.reset_index()['close']"
      ],
      "execution_count": null,
      "outputs": []
    },
    {
      "cell_type": "code",
      "metadata": {
        "colab": {
          "base_uri": "https://localhost:8080/"
        },
        "id": "6Lb6Gol5ByTg",
        "outputId": "f2bbc69c-c755-49df-b014-ac6c806c740c"
      },
      "source": [
        ""
      ],
      "execution_count": null,
      "outputs": [
        {
          "output_type": "execute_result",
          "data": {
            "text/plain": [
              "0       109.11\n",
              "1       109.95\n",
              "2       111.03\n",
              "3       112.12\n",
              "4       113.95\n",
              "         ...  \n",
              "1252    161.94\n",
              "1253    156.81\n",
              "1254    160.24\n",
              "1255    165.30\n",
              "1256    164.77\n",
              "Name: close, Length: 1257, dtype: float64"
            ]
          },
          "metadata": {},
          "execution_count": 12
        }
      ]
    },
    {
      "cell_type": "code",
      "metadata": {
        "colab": {
          "base_uri": "https://localhost:8080/"
        },
        "id": "CyP9CqUdByWO",
        "outputId": "22876bd8-3f73-4922-9338-906324228b9e"
      },
      "source": [
        "df1.shape"
      ],
      "execution_count": null,
      "outputs": [
        {
          "output_type": "execute_result",
          "data": {
            "text/plain": [
              "(1257,)"
            ]
          },
          "metadata": {},
          "execution_count": 15
        }
      ]
    },
    {
      "cell_type": "code",
      "metadata": {
        "colab": {
          "base_uri": "https://localhost:8080/",
          "height": 282
        },
        "id": "SKGh3kbZByX9",
        "outputId": "3a6c7e48-dc07-4c54-908d-e9340b3a7489"
      },
      "source": [
        "import matplotlib.pyplot as plt\n",
        "plt.plot(df1)"
      ],
      "execution_count": null,
      "outputs": [
        {
          "output_type": "execute_result",
          "data": {
            "text/plain": [
              "[<matplotlib.lines.Line2D at 0x7ff3b18581d0>]"
            ]
          },
          "metadata": {},
          "execution_count": 16
        },
        {
          "output_type": "display_data",
          "data": {
            "image/png": "[encoded data removed]",
            "text/plain": [
              "<Figure size 432x288 with 1 Axes>"
            ]
          },
          "metadata": {
            "needs_background": "light"
          }
        }
      ]
    },
    {
      "cell_type": "markdown",
      "metadata": {
        "id": "jmQYs3-3CqOI"
      },
      "source": [
        "### LSTM are sensitive to the scale of the data. so we apply MinMax scaler"
      ]
    },
    {
      "cell_type": "code",
      "metadata": {
        "id": "JVpoDJaEByZj"
      },
      "source": [
        "import numpy as np"
      ],
      "execution_count": null,
      "outputs": []
    },
    {
      "cell_type": "code",
      "metadata": {
        "colab": {
          "base_uri": "https://localhost:8080/"
        },
        "id": "2q6ucxerByb4",
        "outputId": "2529c45c-3652-44c7-fa0a-fb8ccce2ceea"
      },
      "source": [
        "df1"
      ],
      "execution_count": null,
      "outputs": [
        {
          "output_type": "execute_result",
          "data": {
            "text/plain": [
              "0       109.11\n",
              "1       109.95\n",
              "2       111.03\n",
              "3       112.12\n",
              "4       113.95\n",
              "         ...  \n",
              "1252    161.94\n",
              "1253    156.81\n",
              "1254    160.24\n",
              "1255    165.30\n",
              "1256    164.77\n",
              "Name: close, Length: 1257, dtype: float64"
            ]
          },
          "metadata": {},
          "execution_count": 18
        }
      ]
    },
    {
      "cell_type": "code",
      "metadata": {
        "id": "gOjKoMJwBye2"
      },
      "source": [
        "from sklearn.preprocessing import MinMaxScaler\n",
        "scaler=MinMaxScaler(feature_range=(0,1))\n",
        "df1=scaler.fit_transform(np.array(df1).reshape(-1,1))"
      ],
      "execution_count": null,
      "outputs": []
    },
    {
      "cell_type": "code",
      "metadata": {
        "colab": {
          "base_uri": "https://localhost:8080/"
        },
        "id": "5CSIwX39Byg4",
        "outputId": "ad13117d-a015-4601-d0bc-54412663a024"
      },
      "source": [
        "df1"
      ],
      "execution_count": null,
      "outputs": [
        {
          "output_type": "execute_result",
          "data": {
            "text/plain": [
              "array([[0.00568566],\n",
              "       [0.00778961],\n",
              "       [0.01049468],\n",
              "       ...,\n",
              "       [0.13375078],\n",
              "       [0.14642455],\n",
              "       [0.14509706]])"
            ]
          },
          "metadata": {},
          "execution_count": 20
        }
      ]
    },
    {
      "cell_type": "code",
      "metadata": {
        "id": "cuq4vXg1ByiQ"
      },
      "source": [
        "##splitting dataset into train and test split\n",
        "training_size=int(len(df1)*0.65)\n",
        "test_size=len(df1)-training_size\n",
        "train_data,test_data=df1[0:training_size,:],df1[training_size:len(df1),:1]"
      ],
      "execution_count": null,
      "outputs": []
    },
    {
      "cell_type": "code",
      "metadata": {
        "colab": {
          "base_uri": "https://localhost:8080/"
        },
        "id": "LWQ-7ArfByj1",
        "outputId": "34c83e0a-b4b1-4f4d-95e3-2d06c761cbf9"
      },
      "source": [
        "training_size,test_size"
      ],
      "execution_count": null,
      "outputs": [
        {
          "output_type": "execute_result",
          "data": {
            "text/plain": [
              "(817, 440)"
            ]
          },
          "metadata": {},
          "execution_count": 22
        }
      ]
    },
    {
      "cell_type": "code",
      "metadata": {
        "colab": {
          "base_uri": "https://localhost:8080/"
        },
        "id": "wGMjAwzbDQjv",
        "outputId": "0fd62e5c-3ddd-4347-fb40-7da6a4f019af"
      },
      "source": [
        "train_data"
      ],
      "execution_count": null,
      "outputs": [
        {
          "output_type": "execute_result",
          "data": {
            "text/plain": [
              "array([[0.00568566],\n",
              "       [0.00778961],\n",
              "       [0.01049468],\n",
              "       [0.0132248 ],\n",
              "       [0.01780839],\n",
              "       [0.01618034],\n",
              "       [0.02091421],\n",
              "       [0.02091421],\n",
              "       [0.02249217],\n",
              "       [0.02286788],\n",
              "       [0.02454602],\n",
              "       [0.02532248],\n",
              "       [0.025598  ],\n",
              "       [0.02366938],\n",
              "       [0.02424546],\n",
              "       [0.02609894],\n",
              "       [0.02484659],\n",
              "       [0.02477145],\n",
              "       [0.02249217],\n",
              "       [0.02331872],\n",
              "       [0.02299311],\n",
              "       [0.02447088],\n",
              "       [0.02772699],\n",
              "       [0.03043206],\n",
              "       [0.03073262],\n",
              "       [0.03233563],\n",
              "       [0.03108328],\n",
              "       [0.03055729],\n",
              "       [0.0329618 ],\n",
              "       [0.03293676],\n",
              "       [0.03241077],\n",
              "       [0.0329618 ],\n",
              "       [0.03316218],\n",
              "       [0.03288666],\n",
              "       [0.03767063],\n",
              "       [0.03782091],\n",
              "       [0.03784596],\n",
              "       [0.03704446],\n",
              "       [0.03634314],\n",
              "       [0.0548779 ],\n",
              "       [0.05432686],\n",
              "       [0.05570445],\n",
              "       [0.05873513],\n",
              "       [0.06184095],\n",
              "       [0.06311835],\n",
              "       [0.06407013],\n",
              "       [0.06331872],\n",
              "       [0.06624922],\n",
              "       [0.07058234],\n",
              "       [0.07180964],\n",
              "       [0.07139637],\n",
              "       [0.07233563],\n",
              "       [0.07479023],\n",
              "       [0.07581716],\n",
              "       [0.07436443],\n",
              "       [0.07469004],\n",
              "       [0.07536631],\n",
              "       [0.07551659],\n",
              "       [0.08252974],\n",
              "       [0.08045085],\n",
              "       [0.0825047 ],\n",
              "       [0.08140263],\n",
              "       [0.08185348],\n",
              "       [0.08055103],\n",
              "       [0.07974953],\n",
              "       [0.08090169],\n",
              "       [0.08105197],\n",
              "       [0.08052599],\n",
              "       [0.08420789],\n",
              "       [0.08478397],\n",
              "       [0.08303068],\n",
              "       [0.08671259],\n",
              "       [0.08265498],\n",
              "       [0.0866124 ],\n",
              "       [0.08536005],\n",
              "       [0.08465874],\n",
              "       [0.08525986],\n",
              "       [0.09257358],\n",
              "       [0.09337508],\n",
              "       [0.09289919],\n",
              "       [0.09222292],\n",
              "       [0.09232311],\n",
              "       [0.09500313],\n",
              "       [0.09312461],\n",
              "       [0.09222292],\n",
              "       [0.09142142],\n",
              "       [0.09099562],\n",
              "       [0.08713838],\n",
              "       [0.08756418],\n",
              "       [0.08568566],\n",
              "       [0.08763932],\n",
              "       [0.08606137],\n",
              "       [0.08475892],\n",
              "       [0.08916719],\n",
              "       [0.08874139],\n",
              "       [0.09217282],\n",
              "       [0.094402  ],\n",
              "       [0.09227301],\n",
              "       [0.09254853],\n",
              "       [0.09219787],\n",
              "       [0.09953663],\n",
              "       [0.101866  ],\n",
              "       [0.10073889],\n",
              "       [0.0994114 ],\n",
              "       [0.10549781],\n",
              "       [0.11564183],\n",
              "       [0.11809643],\n",
              "       [0.116268  ],\n",
              "       [0.11799624],\n",
              "       [0.12338134],\n",
              "       [0.12237946],\n",
              "       [0.12180338],\n",
              "       [0.10872887],\n",
              "       [0.11446462],\n",
              "       [0.11576706],\n",
              "       [0.11809643],\n",
              "       [0.11762054],\n",
              "       [0.11646838],\n",
              "       [0.11779587],\n",
              "       [0.11714465],\n",
              "       [0.11729493],\n",
              "       [0.11501565],\n",
              "       [0.11606763],\n",
              "       [0.12175329],\n",
              "       [0.11794615],\n",
              "       [0.11924859],\n",
              "       [0.12155291],\n",
              "       [0.12060113],\n",
              "       [0.1055479 ],\n",
              "       [0.09663118],\n",
              "       [0.09956168],\n",
              "       [0.09597996],\n",
              "       [0.09380088],\n",
              "       [0.08874139],\n",
              "       [0.0989355 ],\n",
              "       [0.09560426],\n",
              "       [0.0977583 ],\n",
              "       [0.09715717],\n",
              "       [0.09878522],\n",
              "       [0.09763306],\n",
              "       [0.09239825],\n",
              "       [0.09765811],\n",
              "       [0.09227301],\n",
              "       [0.09312461],\n",
              "       [0.09182217],\n",
              "       [0.09329994],\n",
              "       [0.08989355],\n",
              "       [0.09352536],\n",
              "       [0.09572949],\n",
              "       [0.0969067 ],\n",
              "       [0.09743269],\n",
              "       [0.10251722],\n",
              "       [0.10569818],\n",
              "       [0.10700063],\n",
              "       [0.10830307],\n",
              "       [0.11065748],\n",
              "       [0.10895429],\n",
              "       [0.10877896],\n",
              "       [0.11333751],\n",
              "       [0.11496556],\n",
              "       [0.11676894],\n",
              "       [0.10950532],\n",
              "       [0.10685034],\n",
              "       [0.10492173],\n",
              "       [0.10822793],\n",
              "       [0.12598622],\n",
              "       [0.12205385],\n",
              "       [0.1241077 ],\n",
              "       [0.13016907],\n",
              "       [0.13335003],\n",
              "       [0.13580463],\n",
              "       [0.12142768],\n",
              "       [0.12683782],\n",
              "       [0.13277395],\n",
              "       [0.13715717],\n",
              "       [0.13552912],\n",
              "       [0.12778961],\n",
              "       [0.12688791],\n",
              "       [0.12616155],\n",
              "       [0.13259862],\n",
              "       [0.13309956],\n",
              "       [0.13132123],\n",
              "       [0.132799  ],\n",
              "       [0.13683156],\n",
              "       [0.14043832],\n",
              "       [0.14154039],\n",
              "       [0.14316844],\n",
              "       [0.14329368],\n",
              "       [0.13835942],\n",
              "       [0.13793363],\n",
              "       [0.13630557],\n",
              "       [0.12971822],\n",
              "       [0.1369067 ],\n",
              "       [0.13530369],\n",
              "       [0.13227301],\n",
              "       [0.12884158],\n",
              "       [0.13284909],\n",
              "       [0.12981841],\n",
              "       [0.12996869],\n",
              "       [0.1233062 ],\n",
              "       [0.11659361],\n",
              "       [0.11283657],\n",
              "       [0.10948028],\n",
              "       [0.11596744],\n",
              "       [0.11869756],\n",
              "       [0.1163181 ],\n",
              "       [0.11842204],\n",
              "       [0.11764559],\n",
              "       [0.11932373],\n",
              "       [0.11681904],\n",
              "       [0.12160301],\n",
              "       [0.12137758],\n",
              "       [0.12273012],\n",
              "       [0.1228804 ],\n",
              "       [0.12450845],\n",
              "       [0.12313087],\n",
              "       [0.12561052],\n",
              "       [0.13284909],\n",
              "       [0.13432686],\n",
              "       [0.13254853],\n",
              "       [0.12308078],\n",
              "       [0.12375704],\n",
              "       [0.12355667],\n",
              "       [0.12588604],\n",
              "       [0.1241578 ],\n",
              "       [0.12666249],\n",
              "       [0.14078898],\n",
              "       [0.14998121],\n",
              "       [0.15579211],\n",
              "       [0.15040701],\n",
              "       [0.15346274],\n",
              "       [0.16445836],\n",
              "       [0.16884158],\n",
              "       [0.17024421],\n",
              "       [0.17382592],\n",
              "       [0.17292423],\n",
              "       [0.16989355],\n",
              "       [0.16814026],\n",
              "       [0.16155291],\n",
              "       [0.1558923 ],\n",
              "       [0.16095178],\n",
              "       [0.15857232],\n",
              "       [0.15814652],\n",
              "       [0.16606137],\n",
              "       [0.17061991],\n",
              "       [0.17064496],\n",
              "       [0.16844083],\n",
              "       [0.16588604],\n",
              "       [0.15689418],\n",
              "       [0.16283031],\n",
              "       [0.16082655],\n",
              "       [0.15769568],\n",
              "       [0.15729493],\n",
              "       [0.15571697],\n",
              "       [0.15649343],\n",
              "       [0.15661866],\n",
              "       [0.16488416],\n",
              "       [0.1624546 ],\n",
              "       [0.16388228],\n",
              "       [0.16375704],\n",
              "       [0.16814026],\n",
              "       [0.17427677],\n",
              "       [0.16956794],\n",
              "       [0.16909205],\n",
              "       [0.17074515],\n",
              "       [0.17074515],\n",
              "       [0.1596243 ],\n",
              "       [0.15969944],\n",
              "       [0.16090169],\n",
              "       [0.156268  ],\n",
              "       [0.16385723],\n",
              "       [0.16378209],\n",
              "       [0.16578585],\n",
              "       [0.1707201 ],\n",
              "       [0.16909205],\n",
              "       [0.16904195],\n",
              "       [0.16894177],\n",
              "       [0.17142142],\n",
              "       [0.17595492],\n",
              "       [0.17370069],\n",
              "       [0.18098936],\n",
              "       [0.18139011],\n",
              "       [0.17938635],\n",
              "       [0.17572949],\n",
              "       [0.17582968],\n",
              "       [0.16876644],\n",
              "       [0.16097683],\n",
              "       [0.16197871],\n",
              "       [0.15308704],\n",
              "       [0.15060739],\n",
              "       [0.15175955],\n",
              "       [0.15263619],\n",
              "       [0.134402  ],\n",
              "       [0.12435817],\n",
              "       [0.14073889],\n",
              "       [0.1319975 ],\n",
              "       [0.12100188],\n",
              "       [0.1241578 ],\n",
              "       [0.13993738],\n",
              "       [0.14402004],\n",
              "       [0.15160927],\n",
              "       [0.16568566],\n",
              "       [0.16428303],\n",
              "       [0.16283031],\n",
              "       [0.16087664],\n",
              "       [0.16445836],\n",
              "       [0.17197245],\n",
              "       [0.18066374],\n",
              "       [0.17921102],\n",
              "       [0.17853475],\n",
              "       [0.1707201 ],\n",
              "       [0.17375078],\n",
              "       [0.17527865],\n",
              "       [0.17490294],\n",
              "       [0.17079524],\n",
              "       [0.17557921],\n",
              "       [0.18319349],\n",
              "       [0.18755166],\n",
              "       [0.18316844],\n",
              "       [0.17933626],\n",
              "       [0.17986224],\n",
              "       [0.17828428],\n",
              "       [0.17147151],\n",
              "       [0.17132123],\n",
              "       [0.16137758],\n",
              "       [0.15531622],\n",
              "       [0.14552286],\n",
              "       [0.16513463],\n",
              "       [0.15403882],\n",
              "       [0.14938009],\n",
              "       [0.15263619],\n",
              "       [0.14988103],\n",
              "       [0.15416406],\n",
              "       [0.16222918],\n",
              "       [0.16520977],\n",
              "       [0.15413901],\n",
              "       [0.15832185],\n",
              "       [0.16633688],\n",
              "       [0.16430808],\n",
              "       [0.16856606],\n",
              "       [0.17004383],\n",
              "       [0.17277395],\n",
              "       [0.17883532],\n",
              "       [0.17783344],\n",
              "       [0.16520977],\n",
              "       [0.14747652],\n",
              "       [0.14627426],\n",
              "       [0.14051346],\n",
              "       [0.1422918 ],\n",
              "       [0.14371947],\n",
              "       [0.13896055],\n",
              "       [0.14632436],\n",
              "       [0.15594239],\n",
              "       [0.17465247],\n",
              "       [0.17545398],\n",
              "       [0.19283657],\n",
              "       [0.19616781],\n",
              "       [0.19839699],\n",
              "       [0.20167815],\n",
              "       [0.20839073],\n",
              "       [0.20475892],\n",
              "       [0.20365686],\n",
              "       [0.19937383],\n",
              "       [0.203732  ],\n",
              "       [0.20075141],\n",
              "       [0.19904822],\n",
              "       [0.20235441],\n",
              "       [0.20117721],\n",
              "       [0.20418284],\n",
              "       [0.20365686],\n",
              "       [0.20473388],\n",
              "       [0.20303068],\n",
              "       [0.2020288 ],\n",
              "       [0.20045085],\n",
              "       [0.20889167],\n",
              "       [0.21287414],\n",
              "       [0.21658109],\n",
              "       [0.21825924],\n",
              "       [0.21695679],\n",
              "       [0.21254853],\n",
              "       [0.21137132],\n",
              "       [0.21400125],\n",
              "       [0.21004383],\n",
              "       [0.2102943 ],\n",
              "       [0.2053851 ],\n",
              "       [0.20513463],\n",
              "       [0.1974953 ],\n",
              "       [0.19952411],\n",
              "       [0.19691922],\n",
              "       [0.19556669],\n",
              "       [0.18867877],\n",
              "       [0.19433939],\n",
              "       [0.19366312],\n",
              "       [0.19701941],\n",
              "       [0.19604258],\n",
              "       [0.2012273 ],\n",
              "       [0.19306199],\n",
              "       [0.19676894],\n",
              "       [0.20320601],\n",
              "       [0.20974327],\n",
              "       [0.20916719],\n",
              "       [0.20298059],\n",
              "       [0.21087038],\n",
              "       [0.21162179],\n",
              "       [0.21056982],\n",
              "       [0.21192235],\n",
              "       [0.20929242],\n",
              "       [0.21299937],\n",
              "       [0.21189731],\n",
              "       [0.21232311],\n",
              "       [0.21580463],\n",
              "       [0.22036318],\n",
              "       [0.21883532],\n",
              "       [0.21074515],\n",
              "       [0.20806512],\n",
              "       [0.20901691],\n",
              "       [0.23709455],\n",
              "       [0.25184721],\n",
              "       [0.25335003],\n",
              "       [0.2560551 ],\n",
              "       [0.2511459 ],\n",
              "       [0.25149656],\n",
              "       [0.25557921],\n",
              "       [0.25219787],\n",
              "       [0.25555416],\n",
              "       [0.2577583 ],\n",
              "       [0.2589856 ],\n",
              "       [0.26670006],\n",
              "       [0.27737007],\n",
              "       [0.27206011],\n",
              "       [0.27100814],\n",
              "       [0.27103319],\n",
              "       [0.27213525],\n",
              "       [0.2738134 ],\n",
              "       [0.27827176],\n",
              "       [0.28268003],\n",
              "       [0.29089543],\n",
              "       [0.29603006],\n",
              "       [0.30254227],\n",
              "       [0.3043707 ],\n",
              "       [0.3006387 ],\n",
              "       [0.29119599],\n",
              "       [0.28668754],\n",
              "       [0.27924859],\n",
              "       [0.29307451],\n",
              "       [0.28611146],\n",
              "       [0.29948654],\n",
              "       [0.29304947],\n",
              "       [0.27812148],\n",
              "       [0.27902317],\n",
              "       [0.27934878],\n",
              "       [0.28350657],\n",
              "       [0.27757044],\n",
              "       [0.28541014],\n",
              "       [0.28891672],\n",
              "       [0.28448341],\n",
              "       [0.29582968],\n",
              "       [0.29780839],\n",
              "       [0.30161553],\n",
              "       [0.30667502],\n",
              "       [0.31366312],\n",
              "       [0.30344396],\n",
              "       [0.29417658],\n",
              "       [0.29287414],\n",
              "       [0.3006387 ],\n",
              "       [0.27431434],\n",
              "       [0.26953037],\n",
              "       [0.28871634],\n",
              "       [0.27681904],\n",
              "       [0.28881653],\n",
              "       [0.28641202],\n",
              "       [0.27346274],\n",
              "       [0.28170319],\n",
              "       [0.28505949],\n",
              "       [0.29026925],\n",
              "       [0.27113338],\n",
              "       [0.28293049],\n",
              "       [0.27416406],\n",
              "       [0.26399499],\n",
              "       [0.26664997],\n",
              "       [0.28057608],\n",
              "       [0.28899186],\n",
              "       [0.25207264],\n",
              "       [0.23731997],\n",
              "       [0.24278021],\n",
              "       [0.25825924],\n",
              "       [0.25460238],\n",
              "       [0.2445335 ],\n",
              "       [0.21873513],\n",
              "       [0.21387602],\n",
              "       [0.20027552],\n",
              "       [0.21182217],\n",
              "       [0.21713212],\n",
              "       [0.1979211 ],\n",
              "       [0.1756794 ],\n",
              "       [0.17517846],\n",
              "       [0.16393237],\n",
              "       [0.16976832],\n",
              "       [0.16881653],\n",
              "       [0.185598  ],\n",
              "       [0.18211647],\n",
              "       [0.17968691],\n",
              "       [0.19531622],\n",
              "       [0.17495304],\n",
              "       [0.17001879],\n",
              "       [0.15441453],\n",
              "       [0.15719474],\n",
              "       [0.15476518],\n",
              "       [0.15594239],\n",
              "       [0.16057608],\n",
              "       [0.14687539],\n",
              "       [0.14301816],\n",
              "       [0.14835316],\n",
              "       [0.13537884],\n",
              "       [0.12520977],\n",
              "       [0.10993112],\n",
              "       [0.10016281],\n",
              "       [0.12606137],\n",
              "       [0.12350657],\n",
              "       [0.12370695],\n",
              "       [0.12748904],\n",
              "       [0.12793989],\n",
              "       [0.08854101],\n",
              "       [0.10374452],\n",
              "       [0.10291797],\n",
              "       [0.10998121],\n",
              "       [0.11639324],\n",
              "       [0.11762054],\n",
              "       [0.11383845],\n",
              "       [0.10810269],\n",
              "       [0.11579211],\n",
              "       [0.12047589],\n",
              "       [0.12278021],\n",
              "       [0.12518472],\n",
              "       [0.11636819],\n",
              "       [0.1179211 ],\n",
              "       [0.11486537],\n",
              "       [0.12753914],\n",
              "       [0.12388228],\n",
              "       [0.11982467],\n",
              "       [0.14629931],\n",
              "       [0.1492799 ],\n",
              "       [0.14948028],\n",
              "       [0.16132749],\n",
              "       [0.16866625],\n",
              "       [0.16881653],\n",
              "       [0.16055103],\n",
              "       [0.15922354],\n",
              "       [0.15676894],\n",
              "       [0.1604258 ],\n",
              "       [0.15864746],\n",
              "       [0.16020038],\n",
              "       [0.15924859],\n",
              "       [0.16052599],\n",
              "       [0.16328115],\n",
              "       [0.1608516 ],\n",
              "       [0.16563557],\n",
              "       [0.16879148],\n",
              "       [0.16904195],\n",
              "       [0.17039449],\n",
              "       [0.16608641],\n",
              "       [0.17064496],\n",
              "       [0.17284909],\n",
              "       [0.17204759],\n",
              "       [0.16951785],\n",
              "       [0.16445836],\n",
              "       [0.16548528],\n",
              "       [0.18048842],\n",
              "       [0.18552286],\n",
              "       [0.18752661],\n",
              "       [0.1925861 ],\n",
              "       [0.19857232],\n",
              "       [0.20333125],\n",
              "       [0.19959925],\n",
              "       [0.2036819 ],\n",
              "       [0.22103945],\n",
              "       [0.21092048],\n",
              "       [0.20513463],\n",
              "       [0.20025047],\n",
              "       [0.20445836],\n",
              "       [0.20508453],\n",
              "       [0.20816531],\n",
              "       [0.21139637],\n",
              "       [0.21835942],\n",
              "       [0.22169067],\n",
              "       [0.22254227],\n",
              "       [0.22582342],\n",
              "       [0.23358798],\n",
              "       [0.23208516],\n",
              "       [0.23489042],\n",
              "       [0.23070758],\n",
              "       [0.2305072 ],\n",
              "       [0.23140889],\n",
              "       [0.23145899],\n",
              "       [0.24117721],\n",
              "       [0.24300564],\n",
              "       [0.24468378],\n",
              "       [0.25207264],\n",
              "       [0.25127113],\n",
              "       [0.2465623 ],\n",
              "       [0.2441077 ],\n",
              "       [0.24488416],\n",
              "       [0.23501565],\n",
              "       [0.25968691],\n",
              "       [0.25625548],\n",
              "       [0.26276769],\n",
              "       [0.25457733],\n",
              "       [0.24050094],\n",
              "       [0.24060113],\n",
              "       [0.23514089],\n",
              "       [0.22627426],\n",
              "       [0.19757044],\n",
              "       [0.20493425],\n",
              "       [0.21059487],\n",
              "       [0.20849092],\n",
              "       [0.20578585],\n",
              "       [0.19098309],\n",
              "       [0.19977458],\n",
              "       [0.19020664],\n",
              "       [0.18239198],\n",
              "       [0.18066374],\n",
              "       [0.17881027],\n",
              "       [0.17668128],\n",
              "       [0.1789856 ],\n",
              "       [0.17089543],\n",
              "       [0.16646212],\n",
              "       [0.18234189],\n",
              "       [0.18960551],\n",
              "       [0.1963181 ],\n",
              "       [0.20866625],\n",
              "       [0.21475266],\n",
              "       [0.22033813],\n",
              "       [0.21878522],\n",
              "       [0.21868503],\n",
              "       [0.21515341],\n",
              "       [0.21803381],\n",
              "       [0.22945523],\n",
              "       [0.2280025 ],\n",
              "       [0.23198497],\n",
              "       [0.23028178],\n",
              "       [0.22978084],\n",
              "       [0.2222417 ],\n",
              "       [0.23283657],\n",
              "       [0.23268629],\n",
              "       [0.22812774],\n",
              "       [0.23721979],\n",
              "       [0.24017533],\n",
              "       [0.24438322],\n",
              "       [0.24393237],\n",
              "       [0.2333876 ],\n",
              "       [0.23644333],\n",
              "       [0.24142768],\n",
              "       [0.23772073],\n",
              "       [0.24160301],\n",
              "       [0.24638698],\n",
              "       [0.24460864],\n",
              "       [0.24172824],\n",
              "       [0.24751409],\n",
              "       [0.23982467],\n",
              "       [0.25142142],\n",
              "       [0.25547902],\n",
              "       [0.25505322],\n",
              "       [0.25092048],\n",
              "       [0.25272386],\n",
              "       [0.25758297],\n",
              "       [0.25532874],\n",
              "       [0.26599875],\n",
              "       [0.2544521 ],\n",
              "       [0.24340639],\n",
              "       [0.21665623],\n",
              "       [0.22582342],\n",
              "       [0.230933  ],\n",
              "       [0.24192862],\n",
              "       [0.23581716],\n",
              "       [0.23453976],\n",
              "       [0.25580463],\n",
              "       [0.24022542],\n",
              "       [0.23769568],\n",
              "       [0.24961803],\n",
              "       [0.25926111],\n",
              "       [0.25928616],\n",
              "       [0.26499687],\n",
              "       [0.26454602],\n",
              "       [0.23994991],\n",
              "       [0.24959299],\n",
              "       [0.24375704],\n",
              "       [0.24718848],\n",
              "       [0.25590482],\n",
              "       [0.25522855],\n",
              "       [0.24761428],\n",
              "       [0.25635567],\n",
              "       [0.26659987],\n",
              "       [0.26654978],\n",
              "       [0.26882905],\n",
              "       [0.27516594],\n",
              "       [0.29242329],\n",
              "       [0.29117095],\n",
              "       [0.28030056],\n",
              "       [0.28318096],\n",
              "       [0.28518472],\n",
              "       [0.29036944],\n",
              "       [0.28583594],\n",
              "       [0.27774577],\n",
              "       [0.28022542],\n",
              "       [0.27762054],\n",
              "       [0.28601127],\n",
              "       [0.28315592],\n",
              "       [0.28047589],\n",
              "       [0.29337508],\n",
              "       [0.29492799],\n",
              "       [0.28082655],\n",
              "       [0.28548528],\n",
              "       [0.30098936],\n",
              "       [0.30111459],\n",
              "       [0.2944521 ],\n",
              "       [0.30103945],\n",
              "       [0.30870382],\n",
              "       [0.32403256],\n",
              "       [0.32318096],\n",
              "       [0.32180338],\n",
              "       [0.31942392],\n",
              "       [0.32170319],\n",
              "       [0.3245335 ],\n",
              "       [0.33480276],\n",
              "       [0.33342517],\n",
              "       [0.34149029],\n",
              "       [0.34249217],\n",
              "       [0.35000626],\n",
              "       [0.35619286],\n",
              "       [0.34176581],\n",
              "       [0.34169067],\n",
              "       [0.3554665 ],\n",
              "       [0.37314966],\n",
              "       [0.37735755],\n",
              "       [0.37643081],\n",
              "       [0.37670632],\n",
              "       [0.38219161],\n",
              "       [0.38396994],\n",
              "       [0.38912962],\n",
              "       [0.38852849],\n",
              "       [0.39481528],\n",
              "       [0.39023168],\n",
              "       [0.39804634],\n",
              "       [0.40140263],\n",
              "       [0.39937383],\n",
              "       [0.39160927],\n",
              "       [0.38865373],\n",
              "       [0.38807765],\n",
              "       [0.3995742 ],\n",
              "       [0.39436443],\n",
              "       [0.40325611],\n",
              "       [0.40177833],\n",
              "       [0.39403882],\n",
              "       [0.3822417 ],\n",
              "       [0.38797746],\n",
              "       [0.39759549],\n",
              "       [0.41044458],\n",
              "       [0.40095178],\n",
              "       [0.40485911],\n",
              "       [0.41059487],\n",
              "       [0.41232311],\n",
              "       [0.42156544],\n",
              "       [0.43336255],\n",
              "       [0.43474014],\n",
              "       [0.43306199],\n",
              "       [0.43376331],\n",
              "       [0.43231058],\n",
              "       [0.443732  ],\n",
              "       [0.44440827],\n",
              "       [0.45853475],\n",
              "       [0.45825924],\n",
              "       [0.46256731],\n",
              "       [0.46790232],\n",
              "       [0.48468378],\n",
              "       [0.47737007],\n",
              "       [0.4833062 ],\n",
              "       [0.47977458],\n",
              "       [0.49179712],\n",
              "       [0.50792736],\n",
              "       [0.50968065],\n",
              "       [0.52628679],\n",
              "       [0.51556669],\n",
              "       [0.51221039],\n",
              "       [0.52197871],\n",
              "       [0.5307201 ],\n",
              "       [0.52530996],\n",
              "       [0.52814026],\n",
              "       [0.53197245],\n",
              "       [0.52966813],\n",
              "       [0.50622417],\n",
              "       [0.52811522],\n",
              "       [0.54477145],\n",
              "       [0.54359424],\n",
              "       [0.5076268 ],\n",
              "       [0.50549781],\n",
              "       [0.53102066],\n",
              "       [0.53753287],\n",
              "       [0.54695053],\n",
              "       [0.53397621],\n",
              "       [0.53778334],\n",
              "       [0.53292423],\n",
              "       [0.55193488],\n",
              "       [0.54609894],\n",
              "       [0.54629931],\n",
              "       [0.53139637],\n",
              "       [0.54296807],\n",
              "       [0.53465247],\n",
              "       [0.51649343],\n",
              "       [0.47924859],\n",
              "       [0.45395116],\n",
              "       [0.46539762],\n",
              "       [0.41748278],\n",
              "       [0.41708203],\n",
              "       [0.48082655],\n",
              "       [0.45705698],\n",
              "       [0.49067001],\n",
              "       [0.46607389]])"
            ]
          },
          "metadata": {},
          "execution_count": 23
        }
      ]
    },
    {
      "cell_type": "code",
      "metadata": {
        "id": "ELnE5CfGDQm2"
      },
      "source": [
        "import numpy\n",
        "# convert an array of values into a dataset matrix\n",
        "def create_dataset(dataset, time_step=1):\n",
        "\tdataX, dataY = [], []\n",
        "\tfor i in range(len(dataset)-time_step-1):\n",
        "\t\ta = dataset[i:(i+time_step), 0]   ###i=0, 0,1,2,3-----99   100 \n",
        "\t\tdataX.append(a)\n",
        "\t\tdataY.append(dataset[i + time_step, 0])\n",
        "\treturn numpy.array(dataX), numpy.array(dataY)"
      ],
      "execution_count": null,
      "outputs": []
    },
    {
      "cell_type": "code",
      "metadata": {
        "id": "QGv98uwkDQqE"
      },
      "source": [
        "# reshape into X=t,t+1,t+2,t+3 and Y=t+4\n",
        "time_step = 100\n",
        "X_train, y_train = create_dataset(train_data, time_step)\n",
        "X_test, ytest = create_dataset(test_data, time_step)"
      ],
      "execution_count": null,
      "outputs": []
    },
    {
      "cell_type": "code",
      "metadata": {
        "colab": {
          "base_uri": "https://localhost:8080/"
        },
        "id": "dQsfnOgbMIA-",
        "outputId": "35baa130-9378-4fff-aae1-5546b8047871"
      },
      "source": [
        "print(X_train)"
      ],
      "execution_count": null,
      "outputs": [
        {
          "output_type": "stream",
          "name": "stdout",
          "text": [
            "[[0.00568566 0.00778961 0.01049468 ... 0.09227301 0.09254853 0.09219787]\n",
            " [0.00778961 0.01049468 0.0132248  ... 0.09254853 0.09219787 0.09953663]\n",
            " [0.01049468 0.0132248  0.01780839 ... 0.09219787 0.09953663 0.101866  ]\n",
            " ...\n",
            " [0.30111459 0.2944521  0.30103945 ... 0.46539762 0.41748278 0.41708203]\n",
            " [0.2944521  0.30103945 0.30870382 ... 0.41748278 0.41708203 0.48082655]\n",
            " [0.30103945 0.30870382 0.32403256 ... 0.41708203 0.48082655 0.45705698]]\n"
          ]
        }
      ]
    },
    {
      "cell_type": "code",
      "metadata": {
        "colab": {
          "base_uri": "https://localhost:8080/"
        },
        "id": "APZEpp39MID8",
        "outputId": "c61f7a96-aceb-4b37-e212-943d296e0ad2"
      },
      "source": [
        "print(X_train.shape), print(y_train.shape)"
      ],
      "execution_count": null,
      "outputs": [
        {
          "output_type": "stream",
          "name": "stdout",
          "text": [
            "(716, 100)\n",
            "(716,)\n"
          ]
        },
        {
          "output_type": "execute_result",
          "data": {
            "text/plain": [
              "(None, None)"
            ]
          },
          "metadata": {},
          "execution_count": 27
        }
      ]
    },
    {
      "cell_type": "code",
      "metadata": {
        "colab": {
          "base_uri": "https://localhost:8080/"
        },
        "id": "lQsUPsM7MIGr",
        "outputId": "d7c0a232-6450-40b3-ab27-c013b0f2e021"
      },
      "source": [
        "print(X_test.shape), print(ytest.shape)"
      ],
      "execution_count": null,
      "outputs": [
        {
          "output_type": "stream",
          "name": "stdout",
          "text": [
            "(339, 100)\n",
            "(339,)\n"
          ]
        },
        {
          "output_type": "execute_result",
          "data": {
            "text/plain": [
              "(None, None)"
            ]
          },
          "metadata": {},
          "execution_count": 28
        }
      ]
    },
    {
      "cell_type": "code",
      "metadata": {
        "id": "zGQvnsT5MIJR"
      },
      "source": [
        "# reshape input to be [samples, time steps, features] which is required for LSTM\n",
        "X_train =X_train.reshape(X_train.shape[0],X_train.shape[1] , 1)\n",
        "X_test = X_test.reshape(X_test.shape[0],X_test.shape[1] , 1)"
      ],
      "execution_count": null,
      "outputs": []
    },
    {
      "cell_type": "code",
      "metadata": {
        "id": "RK0I-eZ2MIL3"
      },
      "source": [
        "### Create the Stacked LSTM model\n",
        "from tensorflow.keras.models import Sequential\n",
        "from tensorflow.keras.layers import Dense\n",
        "from tensorflow.keras.layers import LSTM"
      ],
      "execution_count": null,
      "outputs": []
    },
    {
      "cell_type": "code",
      "metadata": {
        "id": "osCFo-F5Mrfl"
      },
      "source": [
        "model=Sequential()\n",
        "model.add(LSTM(50,return_sequences=True,input_shape=(100,1)))\n",
        "model.add(LSTM(50,return_sequences=True))\n",
        "model.add(LSTM(50))\n",
        "model.add(Dense(1))\n",
        "model.compile(loss='mean_squared_error',optimizer='adam')"
      ],
      "execution_count": null,
      "outputs": []
    },
    {
      "cell_type": "code",
      "metadata": {
        "colab": {
          "base_uri": "https://localhost:8080/"
        },
        "id": "Yw9hW5ISMrig",
        "outputId": "3eadf09e-94bc-4f50-f568-fb99c234b5a0"
      },
      "source": [
        "model.summary()"
      ],
      "execution_count": null,
      "outputs": [
        {
          "output_type": "stream",
          "name": "stdout",
          "text": [
            "Model: \"sequential\"\n",
            "_________________________________________________________________\n",
            " Layer (type)                Output Shape              Param #   \n",
            "=================================================================\n",
            " lstm (LSTM)                 (None, 100, 50)           10400     \n",
            "                                                                 \n",
            " lstm_1 (LSTM)               (None, 100, 50)           20200     \n",
            "                                                                 \n",
            " lstm_2 (LSTM)               (None, 50)                20200     \n",
            "                                                                 \n",
            " dense (Dense)               (None, 1)                 51        \n",
            "                                                                 \n",
            "=================================================================\n",
            "Total params: 50,851\n",
            "Trainable params: 50,851\n",
            "Non-trainable params: 0\n",
            "_________________________________________________________________\n"
          ]
        }
      ]
    },
    {
      "cell_type": "code",
      "metadata": {
        "colab": {
          "base_uri": "https://localhost:8080/"
        },
        "id": "JWf-3wURMrlK",
        "outputId": "f63f94b2-d6c1-4272-b364-1ce484d2f694"
      },
      "source": [
        "model.fit(X_train,y_train,validation_data=(X_test,ytest),epochs=100,batch_size=64,verbose=1)\n",
        "\n"
      ],
      "execution_count": null,
      "outputs": [
        {
          "output_type": "stream",
          "name": "stdout",
          "text": [
            "Epoch 1/100\n",
            "12/12 [==============================] - 9s 324ms/step - loss: 0.0171 - val_loss: 0.0234\n",
            "Epoch 2/100\n",
            "12/12 [==============================] - 2s 195ms/step - loss: 0.0042 - val_loss: 0.0271\n",
            "Epoch 3/100\n",
            "12/12 [==============================] - 2s 196ms/step - loss: 0.0019 - val_loss: 0.0233\n",
            "Epoch 4/100\n",
            "12/12 [==============================] - 2s 200ms/step - loss: 9.2535e-04 - val_loss: 0.0264\n",
            "Epoch 5/100\n",
            "12/12 [==============================] - 2s 201ms/step - loss: 7.6555e-04 - val_loss: 0.0243\n",
            "Epoch 6/100\n",
            "12/12 [==============================] - 2s 199ms/step - loss: 7.2260e-04 - val_loss: 0.0231\n",
            "Epoch 7/100\n",
            "12/12 [==============================] - 2s 196ms/step - loss: 6.7862e-04 - val_loss: 0.0217\n",
            "Epoch 8/100\n",
            "12/12 [==============================] - 2s 193ms/step - loss: 6.7912e-04 - val_loss: 0.0213\n",
            "Epoch 9/100\n",
            "12/12 [==============================] - 2s 196ms/step - loss: 6.3325e-04 - val_loss: 0.0217\n",
            "Epoch 10/100\n",
            "12/12 [==============================] - 2s 196ms/step - loss: 6.3332e-04 - val_loss: 0.0207\n",
            "Epoch 11/100\n",
            "12/12 [==============================] - 2s 194ms/step - loss: 6.3646e-04 - val_loss: 0.0204\n",
            "Epoch 12/100\n",
            "12/12 [==============================] - 2s 197ms/step - loss: 5.9487e-04 - val_loss: 0.0202\n",
            "Epoch 13/100\n",
            "12/12 [==============================] - 2s 192ms/step - loss: 6.0667e-04 - val_loss: 0.0199\n",
            "Epoch 14/100\n",
            "12/12 [==============================] - 2s 197ms/step - loss: 5.5427e-04 - val_loss: 0.0187\n",
            "Epoch 15/100\n",
            "12/12 [==============================] - 2s 198ms/step - loss: 5.6479e-04 - val_loss: 0.0188\n",
            "Epoch 16/100\n",
            "12/12 [==============================] - 2s 200ms/step - loss: 5.4847e-04 - val_loss: 0.0193\n",
            "Epoch 17/100\n",
            "12/12 [==============================] - 2s 198ms/step - loss: 5.6465e-04 - val_loss: 0.0170\n",
            "Epoch 18/100\n",
            "12/12 [==============================] - 2s 198ms/step - loss: 4.9548e-04 - val_loss: 0.0171\n",
            "Epoch 19/100\n",
            "12/12 [==============================] - 2s 199ms/step - loss: 4.7553e-04 - val_loss: 0.0153\n",
            "Epoch 20/100\n",
            "12/12 [==============================] - 2s 195ms/step - loss: 4.5570e-04 - val_loss: 0.0152\n",
            "Epoch 21/100\n",
            "12/12 [==============================] - 2s 196ms/step - loss: 4.5204e-04 - val_loss: 0.0155\n",
            "Epoch 22/100\n",
            "12/12 [==============================] - 2s 194ms/step - loss: 4.7178e-04 - val_loss: 0.0133\n",
            "Epoch 23/100\n",
            "12/12 [==============================] - 2s 193ms/step - loss: 4.8303e-04 - val_loss: 0.0149\n",
            "Epoch 24/100\n",
            "12/12 [==============================] - 2s 190ms/step - loss: 4.6943e-04 - val_loss: 0.0129\n",
            "Epoch 25/100\n",
            "12/12 [==============================] - 2s 197ms/step - loss: 4.3664e-04 - val_loss: 0.0136\n",
            "Epoch 26/100\n",
            "12/12 [==============================] - 2s 195ms/step - loss: 3.7572e-04 - val_loss: 0.0135\n",
            "Epoch 27/100\n",
            "12/12 [==============================] - 2s 197ms/step - loss: 3.7691e-04 - val_loss: 0.0131\n",
            "Epoch 28/100\n",
            "12/12 [==============================] - 2s 194ms/step - loss: 3.5817e-04 - val_loss: 0.0128\n",
            "Epoch 29/100\n",
            "12/12 [==============================] - 2s 197ms/step - loss: 4.0600e-04 - val_loss: 0.0144\n",
            "Epoch 30/100\n",
            "12/12 [==============================] - 2s 195ms/step - loss: 4.2290e-04 - val_loss: 0.0126\n",
            "Epoch 31/100\n",
            "12/12 [==============================] - 2s 192ms/step - loss: 3.8757e-04 - val_loss: 0.0128\n",
            "Epoch 32/100\n",
            "12/12 [==============================] - 2s 197ms/step - loss: 3.4589e-04 - val_loss: 0.0128\n",
            "Epoch 33/100\n",
            "12/12 [==============================] - 2s 198ms/step - loss: 3.5466e-04 - val_loss: 0.0124\n",
            "Epoch 34/100\n",
            "12/12 [==============================] - 2s 195ms/step - loss: 3.5398e-04 - val_loss: 0.0131\n",
            "Epoch 35/100\n",
            "12/12 [==============================] - 2s 192ms/step - loss: 3.4235e-04 - val_loss: 0.0127\n",
            "Epoch 36/100\n",
            "12/12 [==============================] - 2s 191ms/step - loss: 3.4852e-04 - val_loss: 0.0127\n",
            "Epoch 37/100\n",
            "12/12 [==============================] - 2s 193ms/step - loss: 3.5530e-04 - val_loss: 0.0124\n",
            "Epoch 38/100\n",
            "12/12 [==============================] - 2s 195ms/step - loss: 3.5424e-04 - val_loss: 0.0121\n",
            "Epoch 39/100\n",
            "12/12 [==============================] - 2s 193ms/step - loss: 3.2676e-04 - val_loss: 0.0119\n",
            "Epoch 40/100\n",
            "12/12 [==============================] - 2s 192ms/step - loss: 3.2505e-04 - val_loss: 0.0120\n",
            "Epoch 41/100\n",
            "12/12 [==============================] - 2s 193ms/step - loss: 3.5412e-04 - val_loss: 0.0133\n",
            "Epoch 42/100\n",
            "12/12 [==============================] - 2s 193ms/step - loss: 3.9806e-04 - val_loss: 0.0115\n",
            "Epoch 43/100\n",
            "12/12 [==============================] - 2s 193ms/step - loss: 3.9766e-04 - val_loss: 0.0115\n",
            "Epoch 44/100\n",
            "12/12 [==============================] - 2s 191ms/step - loss: 3.7952e-04 - val_loss: 0.0116\n",
            "Epoch 45/100\n",
            "12/12 [==============================] - 2s 193ms/step - loss: 3.3060e-04 - val_loss: 0.0105\n",
            "Epoch 46/100\n",
            "12/12 [==============================] - 2s 195ms/step - loss: 5.0662e-04 - val_loss: 0.0120\n",
            "Epoch 47/100\n",
            "12/12 [==============================] - 2s 195ms/step - loss: 3.5942e-04 - val_loss: 0.0109\n",
            "Epoch 48/100\n",
            "12/12 [==============================] - 2s 192ms/step - loss: 3.1013e-04 - val_loss: 0.0111\n",
            "Epoch 49/100\n",
            "12/12 [==============================] - 2s 192ms/step - loss: 3.4029e-04 - val_loss: 0.0106\n",
            "Epoch 50/100\n",
            "12/12 [==============================] - 2s 192ms/step - loss: 3.4922e-04 - val_loss: 0.0112\n",
            "Epoch 51/100\n",
            "12/12 [==============================] - 2s 194ms/step - loss: 3.3189e-04 - val_loss: 0.0104\n",
            "Epoch 52/100\n",
            "12/12 [==============================] - 2s 194ms/step - loss: 3.2315e-04 - val_loss: 0.0113\n",
            "Epoch 53/100\n",
            "12/12 [==============================] - 2s 195ms/step - loss: 2.9170e-04 - val_loss: 0.0104\n",
            "Epoch 54/100\n",
            "12/12 [==============================] - 2s 195ms/step - loss: 3.0334e-04 - val_loss: 0.0114\n",
            "Epoch 55/100\n",
            "12/12 [==============================] - 2s 198ms/step - loss: 3.2278e-04 - val_loss: 0.0104\n",
            "Epoch 56/100\n",
            "12/12 [==============================] - 2s 201ms/step - loss: 3.0113e-04 - val_loss: 0.0110\n",
            "Epoch 57/100\n",
            "12/12 [==============================] - 2s 198ms/step - loss: 2.9455e-04 - val_loss: 0.0107\n",
            "Epoch 58/100\n",
            "12/12 [==============================] - 2s 199ms/step - loss: 2.8053e-04 - val_loss: 0.0106\n",
            "Epoch 59/100\n",
            "12/12 [==============================] - 2s 196ms/step - loss: 3.2666e-04 - val_loss: 0.0104\n",
            "Epoch 60/100\n",
            "12/12 [==============================] - 2s 196ms/step - loss: 2.7850e-04 - val_loss: 0.0101\n",
            "Epoch 61/100\n",
            "12/12 [==============================] - 2s 196ms/step - loss: 2.8608e-04 - val_loss: 0.0112\n",
            "Epoch 62/100\n",
            "12/12 [==============================] - 2s 193ms/step - loss: 3.0361e-04 - val_loss: 0.0102\n",
            "Epoch 63/100\n",
            "12/12 [==============================] - 2s 195ms/step - loss: 2.8003e-04 - val_loss: 0.0103\n",
            "Epoch 64/100\n",
            "12/12 [==============================] - 2s 191ms/step - loss: 2.8819e-04 - val_loss: 0.0103\n",
            "Epoch 65/100\n",
            "12/12 [==============================] - 2s 192ms/step - loss: 2.7465e-04 - val_loss: 0.0101\n",
            "Epoch 66/100\n",
            "12/12 [==============================] - 2s 193ms/step - loss: 2.6722e-04 - val_loss: 0.0099\n",
            "Epoch 67/100\n",
            "12/12 [==============================] - 2s 193ms/step - loss: 2.8615e-04 - val_loss: 0.0102\n",
            "Epoch 68/100\n",
            "12/12 [==============================] - 2s 196ms/step - loss: 2.7663e-04 - val_loss: 0.0100\n",
            "Epoch 69/100\n",
            "12/12 [==============================] - 2s 196ms/step - loss: 2.7992e-04 - val_loss: 0.0101\n",
            "Epoch 70/100\n",
            "12/12 [==============================] - 2s 201ms/step - loss: 2.6519e-04 - val_loss: 0.0094\n",
            "Epoch 71/100\n",
            "12/12 [==============================] - 2s 198ms/step - loss: 2.8502e-04 - val_loss: 0.0099\n",
            "Epoch 72/100\n",
            "12/12 [==============================] - 2s 193ms/step - loss: 2.6373e-04 - val_loss: 0.0093\n",
            "Epoch 73/100\n",
            "12/12 [==============================] - 2s 195ms/step - loss: 2.7531e-04 - val_loss: 0.0097\n",
            "Epoch 74/100\n",
            "12/12 [==============================] - 2s 197ms/step - loss: 2.5441e-04 - val_loss: 0.0101\n",
            "Epoch 75/100\n",
            "12/12 [==============================] - 2s 196ms/step - loss: 2.7870e-04 - val_loss: 0.0094\n",
            "Epoch 76/100\n",
            "12/12 [==============================] - 2s 195ms/step - loss: 2.6271e-04 - val_loss: 0.0093\n",
            "Epoch 77/100\n",
            "12/12 [==============================] - 2s 193ms/step - loss: 2.6624e-04 - val_loss: 0.0098\n",
            "Epoch 78/100\n",
            "12/12 [==============================] - 2s 195ms/step - loss: 2.5253e-04 - val_loss: 0.0091\n",
            "Epoch 79/100\n",
            "12/12 [==============================] - 2s 197ms/step - loss: 2.7423e-04 - val_loss: 0.0094\n",
            "Epoch 80/100\n",
            "12/12 [==============================] - 2s 196ms/step - loss: 2.6234e-04 - val_loss: 0.0094\n",
            "Epoch 81/100\n",
            "12/12 [==============================] - 2s 198ms/step - loss: 2.8516e-04 - val_loss: 0.0091\n",
            "Epoch 82/100\n",
            "12/12 [==============================] - 2s 196ms/step - loss: 3.0977e-04 - val_loss: 0.0085\n",
            "Epoch 83/100\n",
            "12/12 [==============================] - 2s 201ms/step - loss: 2.8849e-04 - val_loss: 0.0089\n",
            "Epoch 84/100\n",
            "12/12 [==============================] - 2s 197ms/step - loss: 2.9109e-04 - val_loss: 0.0087\n",
            "Epoch 85/100\n",
            "12/12 [==============================] - 2s 198ms/step - loss: 2.7429e-04 - val_loss: 0.0083\n",
            "Epoch 86/100\n",
            "12/12 [==============================] - 2s 197ms/step - loss: 2.5005e-04 - val_loss: 0.0084\n",
            "Epoch 87/100\n",
            "12/12 [==============================] - 2s 196ms/step - loss: 2.8743e-04 - val_loss: 0.0086\n",
            "Epoch 88/100\n",
            "12/12 [==============================] - 2s 198ms/step - loss: 2.5260e-04 - val_loss: 0.0081\n",
            "Epoch 89/100\n",
            "12/12 [==============================] - 2s 199ms/step - loss: 2.5178e-04 - val_loss: 0.0085\n",
            "Epoch 90/100\n",
            "12/12 [==============================] - 2s 198ms/step - loss: 2.4080e-04 - val_loss: 0.0081\n",
            "Epoch 91/100\n",
            "12/12 [==============================] - 2s 201ms/step - loss: 2.4402e-04 - val_loss: 0.0082\n",
            "Epoch 92/100\n",
            "12/12 [==============================] - 2s 202ms/step - loss: 2.3439e-04 - val_loss: 0.0083\n",
            "Epoch 93/100\n",
            "12/12 [==============================] - 2s 198ms/step - loss: 2.4083e-04 - val_loss: 0.0079\n",
            "Epoch 94/100\n",
            "12/12 [==============================] - 2s 198ms/step - loss: 2.3503e-04 - val_loss: 0.0081\n",
            "Epoch 95/100\n",
            "12/12 [==============================] - 2s 197ms/step - loss: 2.3614e-04 - val_loss: 0.0079\n",
            "Epoch 96/100\n",
            "12/12 [==============================] - 2s 197ms/step - loss: 2.3295e-04 - val_loss: 0.0078\n",
            "Epoch 97/100\n",
            "12/12 [==============================] - 2s 198ms/step - loss: 2.2829e-04 - val_loss: 0.0077\n",
            "Epoch 98/100\n",
            "12/12 [==============================] - 2s 200ms/step - loss: 2.3477e-04 - val_loss: 0.0076\n",
            "Epoch 99/100\n",
            "12/12 [==============================] - 2s 196ms/step - loss: 2.3821e-04 - val_loss: 0.0077\n",
            "Epoch 100/100\n",
            "12/12 [==============================] - 2s 194ms/step - loss: 2.2773e-04 - val_loss: 0.0075\n"
          ]
        },
        {
          "output_type": "execute_result",
          "data": {
            "text/plain": [
              "<keras.callbacks.History at 0x7ff337a402d0>"
            ]
          },
          "metadata": {},
          "execution_count": 34
        }
      ]
    },
    {
      "cell_type": "code",
      "metadata": {
        "id": "KcIc_7rnMroI"
      },
      "source": [
        "import tensorflow as tf"
      ],
      "execution_count": null,
      "outputs": []
    },
    {
      "cell_type": "code",
      "metadata": {
        "id": "JVt6PIk_Mrqc"
      },
      "source": [
        "### Lets Do the prediction and check performance metrics\n",
        "train_predict=model.predict(X_train)\n",
        "test_predict=model.predict(X_test)"
      ],
      "execution_count": null,
      "outputs": []
    },
    {
      "cell_type": "code",
      "metadata": {
        "id": "ENYpsZWCP7YE"
      },
      "source": [
        "##Transformback to original form\n",
        "train_predict=scaler.inverse_transform(train_predict)\n",
        "test_predict=scaler.inverse_transform(test_predict)"
      ],
      "execution_count": null,
      "outputs": []
    },
    {
      "cell_type": "code",
      "metadata": {
        "colab": {
          "base_uri": "https://localhost:8080/"
        },
        "id": "x3oGgteyMrtS",
        "outputId": "6317ae83-6013-405f-bc8a-218febddba3f"
      },
      "source": [
        "### Calculate RMSE performance metrics\n",
        "import math\n",
        "from sklearn.metrics import mean_squared_error\n",
        "math.sqrt(mean_squared_error(y_train,train_predict))"
      ],
      "execution_count": null,
      "outputs": [
        {
          "output_type": "execute_result",
          "data": {
            "text/plain": [
              "199.36361462771157"
            ]
          },
          "metadata": {},
          "execution_count": 42
        }
      ]
    },
    {
      "cell_type": "code",
      "metadata": {
        "colab": {
          "base_uri": "https://localhost:8080/"
        },
        "id": "9qKzC_OIMIOW",
        "outputId": "c3c42abb-ac68-4c9b-a839-f59f2f702b42"
      },
      "source": [
        "### Test Data RMSE\n",
        "math.sqrt(mean_squared_error(ytest,test_predict))"
      ],
      "execution_count": null,
      "outputs": [
        {
          "output_type": "execute_result",
          "data": {
            "text/plain": [
              "175.24885923935676"
            ]
          },
          "metadata": {},
          "execution_count": 43
        }
      ]
    },
    {
      "cell_type": "code",
      "metadata": {
        "colab": {
          "base_uri": "https://localhost:8080/",
          "height": 265
        },
        "id": "4ouwhKUtPS2E",
        "outputId": "2f652a9a-2574-4f11-849e-edad04539728"
      },
      "source": [
        "### Plotting \n",
        "# shift train predictions for plotting\n",
        "look_back=100\n",
        "trainPredictPlot = numpy.empty_like(df1)\n",
        "trainPredictPlot[:, :] = np.nan\n",
        "trainPredictPlot[look_back:len(train_predict)+look_back, :] = train_predict\n",
        "# shift test predictions for plotting\n",
        "testPredictPlot = numpy.empty_like(df1)\n",
        "testPredictPlot[:, :] = numpy.nan\n",
        "testPredictPlot[len(train_predict)+(look_back*2)+1:len(df1)-1, :] = test_predict\n",
        "# plot baseline and predictions\n",
        "plt.plot(scaler.inverse_transform(df1))\n",
        "plt.plot(trainPredictPlot)\n",
        "plt.plot(testPredictPlot)\n",
        "plt.show()"
      ],
      "execution_count": null,
      "outputs": [
        {
          "output_type": "display_data",
          "data": {
            "image/png": "[encoded data removed]",
            "text/plain": [
              "<Figure size 432x288 with 1 Axes>"
            ]
          },
          "metadata": {
            "needs_background": "light"
          }
        }
      ]
    },
    {
      "cell_type": "code",
      "metadata": {
        "colab": {
          "base_uri": "https://localhost:8080/"
        },
        "id": "VeaebjsFPS43",
        "outputId": "06f5b3fe-f74c-4b0c-875b-f88d11011ca2"
      },
      "source": [
        "len(test_data)"
      ],
      "execution_count": null,
      "outputs": [
        {
          "output_type": "execute_result",
          "data": {
            "text/plain": [
              "440"
            ]
          },
          "metadata": {},
          "execution_count": 45
        }
      ]
    },
    {
      "cell_type": "code",
      "metadata": {
        "id": "xeQpZF-YPem1"
      },
      "source": [
        ""
      ],
      "execution_count": null,
      "outputs": []
    },
    {
      "cell_type": "code",
      "metadata": {
        "colab": {
          "base_uri": "https://localhost:8080/"
        },
        "id": "jzQxmtj_Peph",
        "outputId": "033d962a-69c7-4636-ae31-f6f48f4bc6dd"
      },
      "source": [
        "x_input=test_data[340:].reshape(1,-1)\n",
        "x_input.shape"
      ],
      "execution_count": null,
      "outputs": [
        {
          "output_type": "execute_result",
          "data": {
            "text/plain": [
              "(1, 100)"
            ]
          },
          "metadata": {},
          "execution_count": 47
        }
      ]
    },
    {
      "cell_type": "code",
      "metadata": {
        "id": "45dN9u1DPesS"
      },
      "source": [
        ""
      ],
      "execution_count": null,
      "outputs": []
    },
    {
      "cell_type": "code",
      "metadata": {
        "id": "LGQNj1hDPeu3"
      },
      "source": [
        ""
      ],
      "execution_count": null,
      "outputs": []
    },
    {
      "cell_type": "code",
      "metadata": {
        "id": "w_3rK9PMRCEc"
      },
      "source": [
        "temp_input=list(x_input)\n",
        "temp_input=temp_input[0].tolist()"
      ],
      "execution_count": null,
      "outputs": []
    },
    {
      "cell_type": "code",
      "metadata": {
        "colab": {
          "base_uri": "https://localhost:8080/"
        },
        "id": "_CdwOm4YRCHn",
        "outputId": "a4ead162-9a49-4c4f-df4c-16df8fa1588d"
      },
      "source": [
        "temp_input"
      ],
      "execution_count": null,
      "outputs": [
        {
          "output_type": "execute_result",
          "data": {
            "text/plain": [
              "[0.09718221665623034,\n",
              " 0.10597370068879147,\n",
              " 0.10429555416405756,\n",
              " 0.09906073888541006,\n",
              " 0.08919223544145266,\n",
              " 0.09845961177207263,\n",
              " 0.0965810895428929,\n",
              " 0.10008766437069505,\n",
              " 0.10449592986850342,\n",
              " 0.1055729492798998,\n",
              " 0.10001252348152784,\n",
              " 0.0955291170945522,\n",
              " 0.09718221665623034,\n",
              " 0.0977332498434565,\n",
              " 0.09688165309956165,\n",
              " 0.10149029430181589,\n",
              " 0.10046336881653095,\n",
              " 0.10073888541014397,\n",
              " 0.09843456480901686,\n",
              " 0.0983093299937382,\n",
              " 0.09708202880400746,\n",
              " 0.0977332498434565,\n",
              " 0.10532247964934244,\n",
              " 0.10584846587351276,\n",
              " 0.11090795241077017,\n",
              " 0.10857858484658728,\n",
              " 0.09898559799624296,\n",
              " 0.09983719474013769,\n",
              " 0.10356919223544142,\n",
              " 0.10737633061991231,\n",
              " 0.10715090795241072,\n",
              " 0.10399499060738887,\n",
              " 0.101941139636819,\n",
              " 0.1045961177207263,\n",
              " 0.11591734502191609,\n",
              " 0.11268628678772696,\n",
              " 0.11438948027551654,\n",
              " 0.11724483406386971,\n",
              " 0.11887288666249218,\n",
              " 0.12485911083281148,\n",
              " 0.12090169067000628,\n",
              " 0.11829680651221036,\n",
              " 0.1055228553537883,\n",
              " 0.10697557921102063,\n",
              " 0.10339386349405133,\n",
              " 0.10567313713212267,\n",
              " 0.10507201001878513,\n",
              " 0.09823418910457105,\n",
              " 0.0904195366311834,\n",
              " 0.0916468378209142,\n",
              " 0.09770820288040072,\n",
              " 0.10016280525986221,\n",
              " 0.10038822792736374,\n",
              " 0.09650594865372569,\n",
              " 0.08783969943644326,\n",
              " 0.09014402003757044,\n",
              " 0.08681277395115838,\n",
              " 0.08969317470256727,\n",
              " 0.08090169067000619,\n",
              " 0.08583594239198494,\n",
              " 0.08806512210394485,\n",
              " 0.09129618033813391,\n",
              " 0.09031934877896053,\n",
              " 0.09009392611145894,\n",
              " 0.0868378209142141,\n",
              " 0.08533500313087033,\n",
              " 0.09247338760175322,\n",
              " 0.09517845961177201,\n",
              " 0.09946149029430179,\n",
              " 0.10499686912961798,\n",
              " 0.10624921728240444,\n",
              " 0.10680025046963049,\n",
              " 0.10482154038822789,\n",
              " 0.10469630557294918,\n",
              " 0.10639949906073881,\n",
              " 0.10522229179711956,\n",
              " 0.11453976205385091,\n",
              " 0.10760175328741389,\n",
              " 0.10549780839073258,\n",
              " 0.10815278647463994,\n",
              " 0.11183469004383217,\n",
              " 0.1105072010018785,\n",
              " 0.11130870381966185,\n",
              " 0.10920475892298054,\n",
              " 0.11013149655604254,\n",
              " 0.10289292423293667,\n",
              " 0.10276768941765807,\n",
              " 0.10807764558547273,\n",
              " 0.10810269254852845,\n",
              " 0.11060738885410137,\n",
              " 0.11684408265497809,\n",
              " 0.12781465247338758,\n",
              " 0.13452723857232307,\n",
              " 0.13570444583594238,\n",
              " 0.13668127739511576,\n",
              " 0.13800876643706944,\n",
              " 0.12515967438948022,\n",
              " 0.1337507827175955,\n",
              " 0.14642454602379462,\n",
              " 0.14509705698184094]"
            ]
          },
          "metadata": {},
          "execution_count": 49
        }
      ]
    },
    {
      "cell_type": "code",
      "metadata": {
        "colab": {
          "base_uri": "https://localhost:8080/"
        },
        "id": "JqfkcUgXRCKX",
        "outputId": "cecbb001-3809-4a00-994a-cb5c9a4b9762"
      },
      "source": [
        "# demonstrate prediction for next 10 days\n",
        "from numpy import array\n",
        "\n",
        "lst_output=[]\n",
        "n_steps=100\n",
        "i=0\n",
        "while(i<30):\n",
        "    \n",
        "    if(len(temp_input)>100):\n",
        "        #print(temp_input)\n",
        "        x_input=np.array(temp_input[1:])\n",
        "        print(\"{} day input {}\".format(i,x_input))\n",
        "        x_input=x_input.reshape(1,-1)\n",
        "        x_input = x_input.reshape((1, n_steps, 1))\n",
        "        #print(x_input)\n",
        "        yhat = model.predict(x_input, verbose=0)\n",
        "        print(\"{} day output {}\".format(i,yhat))\n",
        "        temp_input.extend(yhat[0].tolist())\n",
        "        temp_input=temp_input[1:]\n",
        "        #print(temp_input)\n",
        "        lst_output.extend(yhat.tolist())\n",
        "        i=i+1\n",
        "    else:\n",
        "        x_input = x_input.reshape((1, n_steps,1))\n",
        "        yhat = model.predict(x_input, verbose=0)\n",
        "        print(yhat[0])\n",
        "        temp_input.extend(yhat[0].tolist())\n",
        "        print(len(temp_input))\n",
        "        lst_output.extend(yhat.tolist())\n",
        "        i=i+1\n",
        "    \n",
        "\n",
        "print(lst_output)"
      ],
      "execution_count": null,
      "outputs": [
        {
          "output_type": "stream",
          "name": "stdout",
          "text": [
            "[0.13907519]\n",
            "101\n",
            "1 day input [0.1059737  0.10429555 0.09906074 0.08919224 0.09845961 0.09658109\n",
            " 0.10008766 0.10449593 0.10557295 0.10001252 0.09552912 0.09718222\n",
            " 0.09773325 0.09688165 0.10149029 0.10046337 0.10073889 0.09843456\n",
            " 0.09830933 0.09708203 0.09773325 0.10532248 0.10584847 0.11090795\n",
            " 0.10857858 0.0989856  0.09983719 0.10356919 0.10737633 0.10715091\n",
            " 0.10399499 0.10194114 0.10459612 0.11591735 0.11268629 0.11438948\n",
            " 0.11724483 0.11887289 0.12485911 0.12090169 0.11829681 0.10552286\n",
            " 0.10697558 0.10339386 0.10567314 0.10507201 0.09823419 0.09041954\n",
            " 0.09164684 0.0977082  0.10016281 0.10038823 0.09650595 0.0878397\n",
            " 0.09014402 0.08681277 0.08969317 0.08090169 0.08583594 0.08806512\n",
            " 0.09129618 0.09031935 0.09009393 0.08683782 0.085335   0.09247339\n",
            " 0.09517846 0.09946149 0.10499687 0.10624922 0.10680025 0.10482154\n",
            " 0.10469631 0.1063995  0.10522229 0.11453976 0.10760175 0.10549781\n",
            " 0.10815279 0.11183469 0.1105072  0.1113087  0.10920476 0.1101315\n",
            " 0.10289292 0.10276769 0.10807765 0.10810269 0.11060739 0.11684408\n",
            " 0.12781465 0.13452724 0.13570445 0.13668128 0.13800877 0.12515967\n",
            " 0.13375078 0.14642455 0.14509706 0.13907519]\n",
            "1 day output [[0.14113331]]\n",
            "2 day input [0.10429555 0.09906074 0.08919224 0.09845961 0.09658109 0.10008766\n",
            " 0.10449593 0.10557295 0.10001252 0.09552912 0.09718222 0.09773325\n",
            " 0.09688165 0.10149029 0.10046337 0.10073889 0.09843456 0.09830933\n",
            " 0.09708203 0.09773325 0.10532248 0.10584847 0.11090795 0.10857858\n",
            " 0.0989856  0.09983719 0.10356919 0.10737633 0.10715091 0.10399499\n",
            " 0.10194114 0.10459612 0.11591735 0.11268629 0.11438948 0.11724483\n",
            " 0.11887289 0.12485911 0.12090169 0.11829681 0.10552286 0.10697558\n",
            " 0.10339386 0.10567314 0.10507201 0.09823419 0.09041954 0.09164684\n",
            " 0.0977082  0.10016281 0.10038823 0.09650595 0.0878397  0.09014402\n",
            " 0.08681277 0.08969317 0.08090169 0.08583594 0.08806512 0.09129618\n",
            " 0.09031935 0.09009393 0.08683782 0.085335   0.09247339 0.09517846\n",
            " 0.09946149 0.10499687 0.10624922 0.10680025 0.10482154 0.10469631\n",
            " 0.1063995  0.10522229 0.11453976 0.10760175 0.10549781 0.10815279\n",
            " 0.11183469 0.1105072  0.1113087  0.10920476 0.1101315  0.10289292\n",
            " 0.10276769 0.10807765 0.10810269 0.11060739 0.11684408 0.12781465\n",
            " 0.13452724 0.13570445 0.13668128 0.13800877 0.12515967 0.13375078\n",
            " 0.14642455 0.14509706 0.13907519 0.14113331]\n",
            "2 day output [[0.14271392]]\n",
            "3 day input [0.09906074 0.08919224 0.09845961 0.09658109 0.10008766 0.10449593\n",
            " 0.10557295 0.10001252 0.09552912 0.09718222 0.09773325 0.09688165\n",
            " 0.10149029 0.10046337 0.10073889 0.09843456 0.09830933 0.09708203\n",
            " 0.09773325 0.10532248 0.10584847 0.11090795 0.10857858 0.0989856\n",
            " 0.09983719 0.10356919 0.10737633 0.10715091 0.10399499 0.10194114\n",
            " 0.10459612 0.11591735 0.11268629 0.11438948 0.11724483 0.11887289\n",
            " 0.12485911 0.12090169 0.11829681 0.10552286 0.10697558 0.10339386\n",
            " 0.10567314 0.10507201 0.09823419 0.09041954 0.09164684 0.0977082\n",
            " 0.10016281 0.10038823 0.09650595 0.0878397  0.09014402 0.08681277\n",
            " 0.08969317 0.08090169 0.08583594 0.08806512 0.09129618 0.09031935\n",
            " 0.09009393 0.08683782 0.085335   0.09247339 0.09517846 0.09946149\n",
            " 0.10499687 0.10624922 0.10680025 0.10482154 0.10469631 0.1063995\n",
            " 0.10522229 0.11453976 0.10760175 0.10549781 0.10815279 0.11183469\n",
            " 0.1105072  0.1113087  0.10920476 0.1101315  0.10289292 0.10276769\n",
            " 0.10807765 0.10810269 0.11060739 0.11684408 0.12781465 0.13452724\n",
            " 0.13570445 0.13668128 0.13800877 0.12515967 0.13375078 0.14642455\n",
            " 0.14509706 0.13907519 0.14113331 0.14271392]\n",
            "3 day output [[0.14388852]]\n",
            "4 day input [0.08919224 0.09845961 0.09658109 0.10008766 0.10449593 0.10557295\n",
            " 0.10001252 0.09552912 0.09718222 0.09773325 0.09688165 0.10149029\n",
            " 0.10046337 0.10073889 0.09843456 0.09830933 0.09708203 0.09773325\n",
            " 0.10532248 0.10584847 0.11090795 0.10857858 0.0989856  0.09983719\n",
            " 0.10356919 0.10737633 0.10715091 0.10399499 0.10194114 0.10459612\n",
            " 0.11591735 0.11268629 0.11438948 0.11724483 0.11887289 0.12485911\n",
            " 0.12090169 0.11829681 0.10552286 0.10697558 0.10339386 0.10567314\n",
            " 0.10507201 0.09823419 0.09041954 0.09164684 0.0977082  0.10016281\n",
            " 0.10038823 0.09650595 0.0878397  0.09014402 0.08681277 0.08969317\n",
            " 0.08090169 0.08583594 0.08806512 0.09129618 0.09031935 0.09009393\n",
            " 0.08683782 0.085335   0.09247339 0.09517846 0.09946149 0.10499687\n",
            " 0.10624922 0.10680025 0.10482154 0.10469631 0.1063995  0.10522229\n",
            " 0.11453976 0.10760175 0.10549781 0.10815279 0.11183469 0.1105072\n",
            " 0.1113087  0.10920476 0.1101315  0.10289292 0.10276769 0.10807765\n",
            " 0.10810269 0.11060739 0.11684408 0.12781465 0.13452724 0.13570445\n",
            " 0.13668128 0.13800877 0.12515967 0.13375078 0.14642455 0.14509706\n",
            " 0.13907519 0.14113331 0.14271392 0.14388852]\n",
            "4 day output [[0.14476314]]\n",
            "5 day input [0.09845961 0.09658109 0.10008766 0.10449593 0.10557295 0.10001252\n",
            " 0.09552912 0.09718222 0.09773325 0.09688165 0.10149029 0.10046337\n",
            " 0.10073889 0.09843456 0.09830933 0.09708203 0.09773325 0.10532248\n",
            " 0.10584847 0.11090795 0.10857858 0.0989856  0.09983719 0.10356919\n",
            " 0.10737633 0.10715091 0.10399499 0.10194114 0.10459612 0.11591735\n",
            " 0.11268629 0.11438948 0.11724483 0.11887289 0.12485911 0.12090169\n",
            " 0.11829681 0.10552286 0.10697558 0.10339386 0.10567314 0.10507201\n",
            " 0.09823419 0.09041954 0.09164684 0.0977082  0.10016281 0.10038823\n",
            " 0.09650595 0.0878397  0.09014402 0.08681277 0.08969317 0.08090169\n",
            " 0.08583594 0.08806512 0.09129618 0.09031935 0.09009393 0.08683782\n",
            " 0.085335   0.09247339 0.09517846 0.09946149 0.10499687 0.10624922\n",
            " 0.10680025 0.10482154 0.10469631 0.1063995  0.10522229 0.11453976\n",
            " 0.10760175 0.10549781 0.10815279 0.11183469 0.1105072  0.1113087\n",
            " 0.10920476 0.1101315  0.10289292 0.10276769 0.10807765 0.10810269\n",
            " 0.11060739 0.11684408 0.12781465 0.13452724 0.13570445 0.13668128\n",
            " 0.13800877 0.12515967 0.13375078 0.14642455 0.14509706 0.13907519\n",
            " 0.14113331 0.14271392 0.14388852 0.14476314]\n",
            "5 day output [[0.14543642]]\n",
            "6 day input [0.09658109 0.10008766 0.10449593 0.10557295 0.10001252 0.09552912\n",
            " 0.09718222 0.09773325 0.09688165 0.10149029 0.10046337 0.10073889\n",
            " 0.09843456 0.09830933 0.09708203 0.09773325 0.10532248 0.10584847\n",
            " 0.11090795 0.10857858 0.0989856  0.09983719 0.10356919 0.10737633\n",
            " 0.10715091 0.10399499 0.10194114 0.10459612 0.11591735 0.11268629\n",
            " 0.11438948 0.11724483 0.11887289 0.12485911 0.12090169 0.11829681\n",
            " 0.10552286 0.10697558 0.10339386 0.10567314 0.10507201 0.09823419\n",
            " 0.09041954 0.09164684 0.0977082  0.10016281 0.10038823 0.09650595\n",
            " 0.0878397  0.09014402 0.08681277 0.08969317 0.08090169 0.08583594\n",
            " 0.08806512 0.09129618 0.09031935 0.09009393 0.08683782 0.085335\n",
            " 0.09247339 0.09517846 0.09946149 0.10499687 0.10624922 0.10680025\n",
            " 0.10482154 0.10469631 0.1063995  0.10522229 0.11453976 0.10760175\n",
            " 0.10549781 0.10815279 0.11183469 0.1105072  0.1113087  0.10920476\n",
            " 0.1101315  0.10289292 0.10276769 0.10807765 0.10810269 0.11060739\n",
            " 0.11684408 0.12781465 0.13452724 0.13570445 0.13668128 0.13800877\n",
            " 0.12515967 0.13375078 0.14642455 0.14509706 0.13907519 0.14113331\n",
            " 0.14271392 0.14388852 0.14476314 0.14543642]\n",
            "6 day output [[0.14598341]]\n",
            "7 day input [0.10008766 0.10449593 0.10557295 0.10001252 0.09552912 0.09718222\n",
            " 0.09773325 0.09688165 0.10149029 0.10046337 0.10073889 0.09843456\n",
            " 0.09830933 0.09708203 0.09773325 0.10532248 0.10584847 0.11090795\n",
            " 0.10857858 0.0989856  0.09983719 0.10356919 0.10737633 0.10715091\n",
            " 0.10399499 0.10194114 0.10459612 0.11591735 0.11268629 0.11438948\n",
            " 0.11724483 0.11887289 0.12485911 0.12090169 0.11829681 0.10552286\n",
            " 0.10697558 0.10339386 0.10567314 0.10507201 0.09823419 0.09041954\n",
            " 0.09164684 0.0977082  0.10016281 0.10038823 0.09650595 0.0878397\n",
            " 0.09014402 0.08681277 0.08969317 0.08090169 0.08583594 0.08806512\n",
            " 0.09129618 0.09031935 0.09009393 0.08683782 0.085335   0.09247339\n",
            " 0.09517846 0.09946149 0.10499687 0.10624922 0.10680025 0.10482154\n",
            " 0.10469631 0.1063995  0.10522229 0.11453976 0.10760175 0.10549781\n",
            " 0.10815279 0.11183469 0.1105072  0.1113087  0.10920476 0.1101315\n",
            " 0.10289292 0.10276769 0.10807765 0.10810269 0.11060739 0.11684408\n",
            " 0.12781465 0.13452724 0.13570445 0.13668128 0.13800877 0.12515967\n",
            " 0.13375078 0.14642455 0.14509706 0.13907519 0.14113331 0.14271392\n",
            " 0.14388852 0.14476314 0.14543642 0.14598341]\n",
            "7 day output [[0.14645424]]\n",
            "8 day input [0.10449593 0.10557295 0.10001252 0.09552912 0.09718222 0.09773325\n",
            " 0.09688165 0.10149029 0.10046337 0.10073889 0.09843456 0.09830933\n",
            " 0.09708203 0.09773325 0.10532248 0.10584847 0.11090795 0.10857858\n",
            " 0.0989856  0.09983719 0.10356919 0.10737633 0.10715091 0.10399499\n",
            " 0.10194114 0.10459612 0.11591735 0.11268629 0.11438948 0.11724483\n",
            " 0.11887289 0.12485911 0.12090169 0.11829681 0.10552286 0.10697558\n",
            " 0.10339386 0.10567314 0.10507201 0.09823419 0.09041954 0.09164684\n",
            " 0.0977082  0.10016281 0.10038823 0.09650595 0.0878397  0.09014402\n",
            " 0.08681277 0.08969317 0.08090169 0.08583594 0.08806512 0.09129618\n",
            " 0.09031935 0.09009393 0.08683782 0.085335   0.09247339 0.09517846\n",
            " 0.09946149 0.10499687 0.10624922 0.10680025 0.10482154 0.10469631\n",
            " 0.1063995  0.10522229 0.11453976 0.10760175 0.10549781 0.10815279\n",
            " 0.11183469 0.1105072  0.1113087  0.10920476 0.1101315  0.10289292\n",
            " 0.10276769 0.10807765 0.10810269 0.11060739 0.11684408 0.12781465\n",
            " 0.13452724 0.13570445 0.13668128 0.13800877 0.12515967 0.13375078\n",
            " 0.14642455 0.14509706 0.13907519 0.14113331 0.14271392 0.14388852\n",
            " 0.14476314 0.14543642 0.14598341 0.14645424]\n",
            "8 day output [[0.14687906]]\n",
            "9 day input [0.10557295 0.10001252 0.09552912 0.09718222 0.09773325 0.09688165\n",
            " 0.10149029 0.10046337 0.10073889 0.09843456 0.09830933 0.09708203\n",
            " 0.09773325 0.10532248 0.10584847 0.11090795 0.10857858 0.0989856\n",
            " 0.09983719 0.10356919 0.10737633 0.10715091 0.10399499 0.10194114\n",
            " 0.10459612 0.11591735 0.11268629 0.11438948 0.11724483 0.11887289\n",
            " 0.12485911 0.12090169 0.11829681 0.10552286 0.10697558 0.10339386\n",
            " 0.10567314 0.10507201 0.09823419 0.09041954 0.09164684 0.0977082\n",
            " 0.10016281 0.10038823 0.09650595 0.0878397  0.09014402 0.08681277\n",
            " 0.08969317 0.08090169 0.08583594 0.08806512 0.09129618 0.09031935\n",
            " 0.09009393 0.08683782 0.085335   0.09247339 0.09517846 0.09946149\n",
            " 0.10499687 0.10624922 0.10680025 0.10482154 0.10469631 0.1063995\n",
            " 0.10522229 0.11453976 0.10760175 0.10549781 0.10815279 0.11183469\n",
            " 0.1105072  0.1113087  0.10920476 0.1101315  0.10289292 0.10276769\n",
            " 0.10807765 0.10810269 0.11060739 0.11684408 0.12781465 0.13452724\n",
            " 0.13570445 0.13668128 0.13800877 0.12515967 0.13375078 0.14642455\n",
            " 0.14509706 0.13907519 0.14113331 0.14271392 0.14388852 0.14476314\n",
            " 0.14543642 0.14598341 0.14645424 0.14687906]\n",
            "9 day output [[0.1472742]]\n",
            "10 day input [0.10001252 0.09552912 0.09718222 0.09773325 0.09688165 0.10149029\n",
            " 0.10046337 0.10073889 0.09843456 0.09830933 0.09708203 0.09773325\n",
            " 0.10532248 0.10584847 0.11090795 0.10857858 0.0989856  0.09983719\n",
            " 0.10356919 0.10737633 0.10715091 0.10399499 0.10194114 0.10459612\n",
            " 0.11591735 0.11268629 0.11438948 0.11724483 0.11887289 0.12485911\n",
            " 0.12090169 0.11829681 0.10552286 0.10697558 0.10339386 0.10567314\n",
            " 0.10507201 0.09823419 0.09041954 0.09164684 0.0977082  0.10016281\n",
            " 0.10038823 0.09650595 0.0878397  0.09014402 0.08681277 0.08969317\n",
            " 0.08090169 0.08583594 0.08806512 0.09129618 0.09031935 0.09009393\n",
            " 0.08683782 0.085335   0.09247339 0.09517846 0.09946149 0.10499687\n",
            " 0.10624922 0.10680025 0.10482154 0.10469631 0.1063995  0.10522229\n",
            " 0.11453976 0.10760175 0.10549781 0.10815279 0.11183469 0.1105072\n",
            " 0.1113087  0.10920476 0.1101315  0.10289292 0.10276769 0.10807765\n",
            " 0.10810269 0.11060739 0.11684408 0.12781465 0.13452724 0.13570445\n",
            " 0.13668128 0.13800877 0.12515967 0.13375078 0.14642455 0.14509706\n",
            " 0.13907519 0.14113331 0.14271392 0.14388852 0.14476314 0.14543642\n",
            " 0.14598341 0.14645424 0.14687906 0.1472742 ]\n",
            "10 day output [[0.14764814]]\n",
            "11 day input [0.09552912 0.09718222 0.09773325 0.09688165 0.10149029 0.10046337\n",
            " 0.10073889 0.09843456 0.09830933 0.09708203 0.09773325 0.10532248\n",
            " 0.10584847 0.11090795 0.10857858 0.0989856  0.09983719 0.10356919\n",
            " 0.10737633 0.10715091 0.10399499 0.10194114 0.10459612 0.11591735\n",
            " 0.11268629 0.11438948 0.11724483 0.11887289 0.12485911 0.12090169\n",
            " 0.11829681 0.10552286 0.10697558 0.10339386 0.10567314 0.10507201\n",
            " 0.09823419 0.09041954 0.09164684 0.0977082  0.10016281 0.10038823\n",
            " 0.09650595 0.0878397  0.09014402 0.08681277 0.08969317 0.08090169\n",
            " 0.08583594 0.08806512 0.09129618 0.09031935 0.09009393 0.08683782\n",
            " 0.085335   0.09247339 0.09517846 0.09946149 0.10499687 0.10624922\n",
            " 0.10680025 0.10482154 0.10469631 0.1063995  0.10522229 0.11453976\n",
            " 0.10760175 0.10549781 0.10815279 0.11183469 0.1105072  0.1113087\n",
            " 0.10920476 0.1101315  0.10289292 0.10276769 0.10807765 0.10810269\n",
            " 0.11060739 0.11684408 0.12781465 0.13452724 0.13570445 0.13668128\n",
            " 0.13800877 0.12515967 0.13375078 0.14642455 0.14509706 0.13907519\n",
            " 0.14113331 0.14271392 0.14388852 0.14476314 0.14543642 0.14598341\n",
            " 0.14645424 0.14687906 0.1472742  0.14764814]\n",
            "11 day output [[0.14800502]]\n",
            "12 day input [0.09718222 0.09773325 0.09688165 0.10149029 0.10046337 0.10073889\n",
            " 0.09843456 0.09830933 0.09708203 0.09773325 0.10532248 0.10584847\n",
            " 0.11090795 0.10857858 0.0989856  0.09983719 0.10356919 0.10737633\n",
            " 0.10715091 0.10399499 0.10194114 0.10459612 0.11591735 0.11268629\n",
            " 0.11438948 0.11724483 0.11887289 0.12485911 0.12090169 0.11829681\n",
            " 0.10552286 0.10697558 0.10339386 0.10567314 0.10507201 0.09823419\n",
            " 0.09041954 0.09164684 0.0977082  0.10016281 0.10038823 0.09650595\n",
            " 0.0878397  0.09014402 0.08681277 0.08969317 0.08090169 0.08583594\n",
            " 0.08806512 0.09129618 0.09031935 0.09009393 0.08683782 0.085335\n",
            " 0.09247339 0.09517846 0.09946149 0.10499687 0.10624922 0.10680025\n",
            " 0.10482154 0.10469631 0.1063995  0.10522229 0.11453976 0.10760175\n",
            " 0.10549781 0.10815279 0.11183469 0.1105072  0.1113087  0.10920476\n",
            " 0.1101315  0.10289292 0.10276769 0.10807765 0.10810269 0.11060739\n",
            " 0.11684408 0.12781465 0.13452724 0.13570445 0.13668128 0.13800877\n",
            " 0.12515967 0.13375078 0.14642455 0.14509706 0.13907519 0.14113331\n",
            " 0.14271392 0.14388852 0.14476314 0.14543642 0.14598341 0.14645424\n",
            " 0.14687906 0.1472742  0.14764814 0.14800502]\n",
            "12 day output [[0.1483471]]\n",
            "13 day input [0.09773325 0.09688165 0.10149029 0.10046337 0.10073889 0.09843456\n",
            " 0.09830933 0.09708203 0.09773325 0.10532248 0.10584847 0.11090795\n",
            " 0.10857858 0.0989856  0.09983719 0.10356919 0.10737633 0.10715091\n",
            " 0.10399499 0.10194114 0.10459612 0.11591735 0.11268629 0.11438948\n",
            " 0.11724483 0.11887289 0.12485911 0.12090169 0.11829681 0.10552286\n",
            " 0.10697558 0.10339386 0.10567314 0.10507201 0.09823419 0.09041954\n",
            " 0.09164684 0.0977082  0.10016281 0.10038823 0.09650595 0.0878397\n",
            " 0.09014402 0.08681277 0.08969317 0.08090169 0.08583594 0.08806512\n",
            " 0.09129618 0.09031935 0.09009393 0.08683782 0.085335   0.09247339\n",
            " 0.09517846 0.09946149 0.10499687 0.10624922 0.10680025 0.10482154\n",
            " 0.10469631 0.1063995  0.10522229 0.11453976 0.10760175 0.10549781\n",
            " 0.10815279 0.11183469 0.1105072  0.1113087  0.10920476 0.1101315\n",
            " 0.10289292 0.10276769 0.10807765 0.10810269 0.11060739 0.11684408\n",
            " 0.12781465 0.13452724 0.13570445 0.13668128 0.13800877 0.12515967\n",
            " 0.13375078 0.14642455 0.14509706 0.13907519 0.14113331 0.14271392\n",
            " 0.14388852 0.14476314 0.14543642 0.14598341 0.14645424 0.14687906\n",
            " 0.1472742  0.14764814 0.14800502 0.14834709]\n",
            "13 day output [[0.14867619]]\n",
            "14 day input [0.09688165 0.10149029 0.10046337 0.10073889 0.09843456 0.09830933\n",
            " 0.09708203 0.09773325 0.10532248 0.10584847 0.11090795 0.10857858\n",
            " 0.0989856  0.09983719 0.10356919 0.10737633 0.10715091 0.10399499\n",
            " 0.10194114 0.10459612 0.11591735 0.11268629 0.11438948 0.11724483\n",
            " 0.11887289 0.12485911 0.12090169 0.11829681 0.10552286 0.10697558\n",
            " 0.10339386 0.10567314 0.10507201 0.09823419 0.09041954 0.09164684\n",
            " 0.0977082  0.10016281 0.10038823 0.09650595 0.0878397  0.09014402\n",
            " 0.08681277 0.08969317 0.08090169 0.08583594 0.08806512 0.09129618\n",
            " 0.09031935 0.09009393 0.08683782 0.085335   0.09247339 0.09517846\n",
            " 0.09946149 0.10499687 0.10624922 0.10680025 0.10482154 0.10469631\n",
            " 0.1063995  0.10522229 0.11453976 0.10760175 0.10549781 0.10815279\n",
            " 0.11183469 0.1105072  0.1113087  0.10920476 0.1101315  0.10289292\n",
            " 0.10276769 0.10807765 0.10810269 0.11060739 0.11684408 0.12781465\n",
            " 0.13452724 0.13570445 0.13668128 0.13800877 0.12515967 0.13375078\n",
            " 0.14642455 0.14509706 0.13907519 0.14113331 0.14271392 0.14388852\n",
            " 0.14476314 0.14543642 0.14598341 0.14645424 0.14687906 0.1472742\n",
            " 0.14764814 0.14800502 0.14834709 0.14867619]\n",
            "14 day output [[0.14899388]]\n",
            "15 day input [0.10149029 0.10046337 0.10073889 0.09843456 0.09830933 0.09708203\n",
            " 0.09773325 0.10532248 0.10584847 0.11090795 0.10857858 0.0989856\n",
            " 0.09983719 0.10356919 0.10737633 0.10715091 0.10399499 0.10194114\n",
            " 0.10459612 0.11591735 0.11268629 0.11438948 0.11724483 0.11887289\n",
            " 0.12485911 0.12090169 0.11829681 0.10552286 0.10697558 0.10339386\n",
            " 0.10567314 0.10507201 0.09823419 0.09041954 0.09164684 0.0977082\n",
            " 0.10016281 0.10038823 0.09650595 0.0878397  0.09014402 0.08681277\n",
            " 0.08969317 0.08090169 0.08583594 0.08806512 0.09129618 0.09031935\n",
            " 0.09009393 0.08683782 0.085335   0.09247339 0.09517846 0.09946149\n",
            " 0.10499687 0.10624922 0.10680025 0.10482154 0.10469631 0.1063995\n",
            " 0.10522229 0.11453976 0.10760175 0.10549781 0.10815279 0.11183469\n",
            " 0.1105072  0.1113087  0.10920476 0.1101315  0.10289292 0.10276769\n",
            " 0.10807765 0.10810269 0.11060739 0.11684408 0.12781465 0.13452724\n",
            " 0.13570445 0.13668128 0.13800877 0.12515967 0.13375078 0.14642455\n",
            " 0.14509706 0.13907519 0.14113331 0.14271392 0.14388852 0.14476314\n",
            " 0.14543642 0.14598341 0.14645424 0.14687906 0.1472742  0.14764814\n",
            " 0.14800502 0.14834709 0.14867619 0.14899388]\n",
            "15 day output [[0.14930177]]\n",
            "16 day input [0.10046337 0.10073889 0.09843456 0.09830933 0.09708203 0.09773325\n",
            " 0.10532248 0.10584847 0.11090795 0.10857858 0.0989856  0.09983719\n",
            " 0.10356919 0.10737633 0.10715091 0.10399499 0.10194114 0.10459612\n",
            " 0.11591735 0.11268629 0.11438948 0.11724483 0.11887289 0.12485911\n",
            " 0.12090169 0.11829681 0.10552286 0.10697558 0.10339386 0.10567314\n",
            " 0.10507201 0.09823419 0.09041954 0.09164684 0.0977082  0.10016281\n",
            " 0.10038823 0.09650595 0.0878397  0.09014402 0.08681277 0.08969317\n",
            " 0.08090169 0.08583594 0.08806512 0.09129618 0.09031935 0.09009393\n",
            " 0.08683782 0.085335   0.09247339 0.09517846 0.09946149 0.10499687\n",
            " 0.10624922 0.10680025 0.10482154 0.10469631 0.1063995  0.10522229\n",
            " 0.11453976 0.10760175 0.10549781 0.10815279 0.11183469 0.1105072\n",
            " 0.1113087  0.10920476 0.1101315  0.10289292 0.10276769 0.10807765\n",
            " 0.10810269 0.11060739 0.11684408 0.12781465 0.13452724 0.13570445\n",
            " 0.13668128 0.13800877 0.12515967 0.13375078 0.14642455 0.14509706\n",
            " 0.13907519 0.14113331 0.14271392 0.14388852 0.14476314 0.14543642\n",
            " 0.14598341 0.14645424 0.14687906 0.1472742  0.14764814 0.14800502\n",
            " 0.14834709 0.14867619 0.14899388 0.14930177]\n",
            "16 day output [[0.14960143]]\n",
            "17 day input [0.10073889 0.09843456 0.09830933 0.09708203 0.09773325 0.10532248\n",
            " 0.10584847 0.11090795 0.10857858 0.0989856  0.09983719 0.10356919\n",
            " 0.10737633 0.10715091 0.10399499 0.10194114 0.10459612 0.11591735\n",
            " 0.11268629 0.11438948 0.11724483 0.11887289 0.12485911 0.12090169\n",
            " 0.11829681 0.10552286 0.10697558 0.10339386 0.10567314 0.10507201\n",
            " 0.09823419 0.09041954 0.09164684 0.0977082  0.10016281 0.10038823\n",
            " 0.09650595 0.0878397  0.09014402 0.08681277 0.08969317 0.08090169\n",
            " 0.08583594 0.08806512 0.09129618 0.09031935 0.09009393 0.08683782\n",
            " 0.085335   0.09247339 0.09517846 0.09946149 0.10499687 0.10624922\n",
            " 0.10680025 0.10482154 0.10469631 0.1063995  0.10522229 0.11453976\n",
            " 0.10760175 0.10549781 0.10815279 0.11183469 0.1105072  0.1113087\n",
            " 0.10920476 0.1101315  0.10289292 0.10276769 0.10807765 0.10810269\n",
            " 0.11060739 0.11684408 0.12781465 0.13452724 0.13570445 0.13668128\n",
            " 0.13800877 0.12515967 0.13375078 0.14642455 0.14509706 0.13907519\n",
            " 0.14113331 0.14271392 0.14388852 0.14476314 0.14543642 0.14598341\n",
            " 0.14645424 0.14687906 0.1472742  0.14764814 0.14800502 0.14834709\n",
            " 0.14867619 0.14899388 0.14930177 0.14960143]\n",
            "17 day output [[0.1498943]]\n",
            "18 day input [0.09843456 0.09830933 0.09708203 0.09773325 0.10532248 0.10584847\n",
            " 0.11090795 0.10857858 0.0989856  0.09983719 0.10356919 0.10737633\n",
            " 0.10715091 0.10399499 0.10194114 0.10459612 0.11591735 0.11268629\n",
            " 0.11438948 0.11724483 0.11887289 0.12485911 0.12090169 0.11829681\n",
            " 0.10552286 0.10697558 0.10339386 0.10567314 0.10507201 0.09823419\n",
            " 0.09041954 0.09164684 0.0977082  0.10016281 0.10038823 0.09650595\n",
            " 0.0878397  0.09014402 0.08681277 0.08969317 0.08090169 0.08583594\n",
            " 0.08806512 0.09129618 0.09031935 0.09009393 0.08683782 0.085335\n",
            " 0.09247339 0.09517846 0.09946149 0.10499687 0.10624922 0.10680025\n",
            " 0.10482154 0.10469631 0.1063995  0.10522229 0.11453976 0.10760175\n",
            " 0.10549781 0.10815279 0.11183469 0.1105072  0.1113087  0.10920476\n",
            " 0.1101315  0.10289292 0.10276769 0.10807765 0.10810269 0.11060739\n",
            " 0.11684408 0.12781465 0.13452724 0.13570445 0.13668128 0.13800877\n",
            " 0.12515967 0.13375078 0.14642455 0.14509706 0.13907519 0.14113331\n",
            " 0.14271392 0.14388852 0.14476314 0.14543642 0.14598341 0.14645424\n",
            " 0.14687906 0.1472742  0.14764814 0.14800502 0.14834709 0.14867619\n",
            " 0.14899388 0.14930177 0.14960143 0.1498943 ]\n",
            "18 day output [[0.1501815]]\n",
            "19 day input [0.09830933 0.09708203 0.09773325 0.10532248 0.10584847 0.11090795\n",
            " 0.10857858 0.0989856  0.09983719 0.10356919 0.10737633 0.10715091\n",
            " 0.10399499 0.10194114 0.10459612 0.11591735 0.11268629 0.11438948\n",
            " 0.11724483 0.11887289 0.12485911 0.12090169 0.11829681 0.10552286\n",
            " 0.10697558 0.10339386 0.10567314 0.10507201 0.09823419 0.09041954\n",
            " 0.09164684 0.0977082  0.10016281 0.10038823 0.09650595 0.0878397\n",
            " 0.09014402 0.08681277 0.08969317 0.08090169 0.08583594 0.08806512\n",
            " 0.09129618 0.09031935 0.09009393 0.08683782 0.085335   0.09247339\n",
            " 0.09517846 0.09946149 0.10499687 0.10624922 0.10680025 0.10482154\n",
            " 0.10469631 0.1063995  0.10522229 0.11453976 0.10760175 0.10549781\n",
            " 0.10815279 0.11183469 0.1105072  0.1113087  0.10920476 0.1101315\n",
            " 0.10289292 0.10276769 0.10807765 0.10810269 0.11060739 0.11684408\n",
            " 0.12781465 0.13452724 0.13570445 0.13668128 0.13800877 0.12515967\n",
            " 0.13375078 0.14642455 0.14509706 0.13907519 0.14113331 0.14271392\n",
            " 0.14388852 0.14476314 0.14543642 0.14598341 0.14645424 0.14687906\n",
            " 0.1472742  0.14764814 0.14800502 0.14834709 0.14867619 0.14899388\n",
            " 0.14930177 0.14960143 0.1498943  0.1501815 ]\n",
            "19 day output [[0.15046409]]\n",
            "20 day input [0.09708203 0.09773325 0.10532248 0.10584847 0.11090795 0.10857858\n",
            " 0.0989856  0.09983719 0.10356919 0.10737633 0.10715091 0.10399499\n",
            " 0.10194114 0.10459612 0.11591735 0.11268629 0.11438948 0.11724483\n",
            " 0.11887289 0.12485911 0.12090169 0.11829681 0.10552286 0.10697558\n",
            " 0.10339386 0.10567314 0.10507201 0.09823419 0.09041954 0.09164684\n",
            " 0.0977082  0.10016281 0.10038823 0.09650595 0.0878397  0.09014402\n",
            " 0.08681277 0.08969317 0.08090169 0.08583594 0.08806512 0.09129618\n",
            " 0.09031935 0.09009393 0.08683782 0.085335   0.09247339 0.09517846\n",
            " 0.09946149 0.10499687 0.10624922 0.10680025 0.10482154 0.10469631\n",
            " 0.1063995  0.10522229 0.11453976 0.10760175 0.10549781 0.10815279\n",
            " 0.11183469 0.1105072  0.1113087  0.10920476 0.1101315  0.10289292\n",
            " 0.10276769 0.10807765 0.10810269 0.11060739 0.11684408 0.12781465\n",
            " 0.13452724 0.13570445 0.13668128 0.13800877 0.12515967 0.13375078\n",
            " 0.14642455 0.14509706 0.13907519 0.14113331 0.14271392 0.14388852\n",
            " 0.14476314 0.14543642 0.14598341 0.14645424 0.14687906 0.1472742\n",
            " 0.14764814 0.14800502 0.14834709 0.14867619 0.14899388 0.14930177\n",
            " 0.14960143 0.1498943  0.1501815  0.15046409]\n",
            "20 day output [[0.15074292]]\n",
            "21 day input [0.09773325 0.10532248 0.10584847 0.11090795 0.10857858 0.0989856\n",
            " 0.09983719 0.10356919 0.10737633 0.10715091 0.10399499 0.10194114\n",
            " 0.10459612 0.11591735 0.11268629 0.11438948 0.11724483 0.11887289\n",
            " 0.12485911 0.12090169 0.11829681 0.10552286 0.10697558 0.10339386\n",
            " 0.10567314 0.10507201 0.09823419 0.09041954 0.09164684 0.0977082\n",
            " 0.10016281 0.10038823 0.09650595 0.0878397  0.09014402 0.08681277\n",
            " 0.08969317 0.08090169 0.08583594 0.08806512 0.09129618 0.09031935\n",
            " 0.09009393 0.08683782 0.085335   0.09247339 0.09517846 0.09946149\n",
            " 0.10499687 0.10624922 0.10680025 0.10482154 0.10469631 0.1063995\n",
            " 0.10522229 0.11453976 0.10760175 0.10549781 0.10815279 0.11183469\n",
            " 0.1105072  0.1113087  0.10920476 0.1101315  0.10289292 0.10276769\n",
            " 0.10807765 0.10810269 0.11060739 0.11684408 0.12781465 0.13452724\n",
            " 0.13570445 0.13668128 0.13800877 0.12515967 0.13375078 0.14642455\n",
            " 0.14509706 0.13907519 0.14113331 0.14271392 0.14388852 0.14476314\n",
            " 0.14543642 0.14598341 0.14645424 0.14687906 0.1472742  0.14764814\n",
            " 0.14800502 0.14834709 0.14867619 0.14899388 0.14930177 0.14960143\n",
            " 0.1498943  0.1501815  0.15046409 0.15074292]\n",
            "21 day output [[0.15101844]]\n",
            "22 day input [0.10532248 0.10584847 0.11090795 0.10857858 0.0989856  0.09983719\n",
            " 0.10356919 0.10737633 0.10715091 0.10399499 0.10194114 0.10459612\n",
            " 0.11591735 0.11268629 0.11438948 0.11724483 0.11887289 0.12485911\n",
            " 0.12090169 0.11829681 0.10552286 0.10697558 0.10339386 0.10567314\n",
            " 0.10507201 0.09823419 0.09041954 0.09164684 0.0977082  0.10016281\n",
            " 0.10038823 0.09650595 0.0878397  0.09014402 0.08681277 0.08969317\n",
            " 0.08090169 0.08583594 0.08806512 0.09129618 0.09031935 0.09009393\n",
            " 0.08683782 0.085335   0.09247339 0.09517846 0.09946149 0.10499687\n",
            " 0.10624922 0.10680025 0.10482154 0.10469631 0.1063995  0.10522229\n",
            " 0.11453976 0.10760175 0.10549781 0.10815279 0.11183469 0.1105072\n",
            " 0.1113087  0.10920476 0.1101315  0.10289292 0.10276769 0.10807765\n",
            " 0.10810269 0.11060739 0.11684408 0.12781465 0.13452724 0.13570445\n",
            " 0.13668128 0.13800877 0.12515967 0.13375078 0.14642455 0.14509706\n",
            " 0.13907519 0.14113331 0.14271392 0.14388852 0.14476314 0.14543642\n",
            " 0.14598341 0.14645424 0.14687906 0.1472742  0.14764814 0.14800502\n",
            " 0.14834709 0.14867619 0.14899388 0.14930177 0.14960143 0.1498943\n",
            " 0.1501815  0.15046409 0.15074292 0.15101844]\n",
            "22 day output [[0.15129116]]\n",
            "23 day input [0.10584847 0.11090795 0.10857858 0.0989856  0.09983719 0.10356919\n",
            " 0.10737633 0.10715091 0.10399499 0.10194114 0.10459612 0.11591735\n",
            " 0.11268629 0.11438948 0.11724483 0.11887289 0.12485911 0.12090169\n",
            " 0.11829681 0.10552286 0.10697558 0.10339386 0.10567314 0.10507201\n",
            " 0.09823419 0.09041954 0.09164684 0.0977082  0.10016281 0.10038823\n",
            " 0.09650595 0.0878397  0.09014402 0.08681277 0.08969317 0.08090169\n",
            " 0.08583594 0.08806512 0.09129618 0.09031935 0.09009393 0.08683782\n",
            " 0.085335   0.09247339 0.09517846 0.09946149 0.10499687 0.10624922\n",
            " 0.10680025 0.10482154 0.10469631 0.1063995  0.10522229 0.11453976\n",
            " 0.10760175 0.10549781 0.10815279 0.11183469 0.1105072  0.1113087\n",
            " 0.10920476 0.1101315  0.10289292 0.10276769 0.10807765 0.10810269\n",
            " 0.11060739 0.11684408 0.12781465 0.13452724 0.13570445 0.13668128\n",
            " 0.13800877 0.12515967 0.13375078 0.14642455 0.14509706 0.13907519\n",
            " 0.14113331 0.14271392 0.14388852 0.14476314 0.14543642 0.14598341\n",
            " 0.14645424 0.14687906 0.1472742  0.14764814 0.14800502 0.14834709\n",
            " 0.14867619 0.14899388 0.14930177 0.14960143 0.1498943  0.1501815\n",
            " 0.15046409 0.15074292 0.15101844 0.15129116]\n",
            "23 day output [[0.15156135]]\n",
            "24 day input [0.11090795 0.10857858 0.0989856  0.09983719 0.10356919 0.10737633\n",
            " 0.10715091 0.10399499 0.10194114 0.10459612 0.11591735 0.11268629\n",
            " 0.11438948 0.11724483 0.11887289 0.12485911 0.12090169 0.11829681\n",
            " 0.10552286 0.10697558 0.10339386 0.10567314 0.10507201 0.09823419\n",
            " 0.09041954 0.09164684 0.0977082  0.10016281 0.10038823 0.09650595\n",
            " 0.0878397  0.09014402 0.08681277 0.08969317 0.08090169 0.08583594\n",
            " 0.08806512 0.09129618 0.09031935 0.09009393 0.08683782 0.085335\n",
            " 0.09247339 0.09517846 0.09946149 0.10499687 0.10624922 0.10680025\n",
            " 0.10482154 0.10469631 0.1063995  0.10522229 0.11453976 0.10760175\n",
            " 0.10549781 0.10815279 0.11183469 0.1105072  0.1113087  0.10920476\n",
            " 0.1101315  0.10289292 0.10276769 0.10807765 0.10810269 0.11060739\n",
            " 0.11684408 0.12781465 0.13452724 0.13570445 0.13668128 0.13800877\n",
            " 0.12515967 0.13375078 0.14642455 0.14509706 0.13907519 0.14113331\n",
            " 0.14271392 0.14388852 0.14476314 0.14543642 0.14598341 0.14645424\n",
            " 0.14687906 0.1472742  0.14764814 0.14800502 0.14834709 0.14867619\n",
            " 0.14899388 0.14930177 0.14960143 0.1498943  0.1501815  0.15046409\n",
            " 0.15074292 0.15101844 0.15129116 0.15156135]\n",
            "24 day output [[0.15182927]]\n",
            "25 day input [0.10857858 0.0989856  0.09983719 0.10356919 0.10737633 0.10715091\n",
            " 0.10399499 0.10194114 0.10459612 0.11591735 0.11268629 0.11438948\n",
            " 0.11724483 0.11887289 0.12485911 0.12090169 0.11829681 0.10552286\n",
            " 0.10697558 0.10339386 0.10567314 0.10507201 0.09823419 0.09041954\n",
            " 0.09164684 0.0977082  0.10016281 0.10038823 0.09650595 0.0878397\n",
            " 0.09014402 0.08681277 0.08969317 0.08090169 0.08583594 0.08806512\n",
            " 0.09129618 0.09031935 0.09009393 0.08683782 0.085335   0.09247339\n",
            " 0.09517846 0.09946149 0.10499687 0.10624922 0.10680025 0.10482154\n",
            " 0.10469631 0.1063995  0.10522229 0.11453976 0.10760175 0.10549781\n",
            " 0.10815279 0.11183469 0.1105072  0.1113087  0.10920476 0.1101315\n",
            " 0.10289292 0.10276769 0.10807765 0.10810269 0.11060739 0.11684408\n",
            " 0.12781465 0.13452724 0.13570445 0.13668128 0.13800877 0.12515967\n",
            " 0.13375078 0.14642455 0.14509706 0.13907519 0.14113331 0.14271392\n",
            " 0.14388852 0.14476314 0.14543642 0.14598341 0.14645424 0.14687906\n",
            " 0.1472742  0.14764814 0.14800502 0.14834709 0.14867619 0.14899388\n",
            " 0.14930177 0.14960143 0.1498943  0.1501815  0.15046409 0.15074292\n",
            " 0.15101844 0.15129116 0.15156135 0.15182927]\n",
            "25 day output [[0.15209496]]\n",
            "26 day input [0.0989856  0.09983719 0.10356919 0.10737633 0.10715091 0.10399499\n",
            " 0.10194114 0.10459612 0.11591735 0.11268629 0.11438948 0.11724483\n",
            " 0.11887289 0.12485911 0.12090169 0.11829681 0.10552286 0.10697558\n",
            " 0.10339386 0.10567314 0.10507201 0.09823419 0.09041954 0.09164684\n",
            " 0.0977082  0.10016281 0.10038823 0.09650595 0.0878397  0.09014402\n",
            " 0.08681277 0.08969317 0.08090169 0.08583594 0.08806512 0.09129618\n",
            " 0.09031935 0.09009393 0.08683782 0.085335   0.09247339 0.09517846\n",
            " 0.09946149 0.10499687 0.10624922 0.10680025 0.10482154 0.10469631\n",
            " 0.1063995  0.10522229 0.11453976 0.10760175 0.10549781 0.10815279\n",
            " 0.11183469 0.1105072  0.1113087  0.10920476 0.1101315  0.10289292\n",
            " 0.10276769 0.10807765 0.10810269 0.11060739 0.11684408 0.12781465\n",
            " 0.13452724 0.13570445 0.13668128 0.13800877 0.12515967 0.13375078\n",
            " 0.14642455 0.14509706 0.13907519 0.14113331 0.14271392 0.14388852\n",
            " 0.14476314 0.14543642 0.14598341 0.14645424 0.14687906 0.1472742\n",
            " 0.14764814 0.14800502 0.14834709 0.14867619 0.14899388 0.14930177\n",
            " 0.14960143 0.1498943  0.1501815  0.15046409 0.15074292 0.15101844\n",
            " 0.15129116 0.15156135 0.15182927 0.15209496]\n",
            "26 day output [[0.15235855]]\n",
            "27 day input [0.09983719 0.10356919 0.10737633 0.10715091 0.10399499 0.10194114\n",
            " 0.10459612 0.11591735 0.11268629 0.11438948 0.11724483 0.11887289\n",
            " 0.12485911 0.12090169 0.11829681 0.10552286 0.10697558 0.10339386\n",
            " 0.10567314 0.10507201 0.09823419 0.09041954 0.09164684 0.0977082\n",
            " 0.10016281 0.10038823 0.09650595 0.0878397  0.09014402 0.08681277\n",
            " 0.08969317 0.08090169 0.08583594 0.08806512 0.09129618 0.09031935\n",
            " 0.09009393 0.08683782 0.085335   0.09247339 0.09517846 0.09946149\n",
            " 0.10499687 0.10624922 0.10680025 0.10482154 0.10469631 0.1063995\n",
            " 0.10522229 0.11453976 0.10760175 0.10549781 0.10815279 0.11183469\n",
            " 0.1105072  0.1113087  0.10920476 0.1101315  0.10289292 0.10276769\n",
            " 0.10807765 0.10810269 0.11060739 0.11684408 0.12781465 0.13452724\n",
            " 0.13570445 0.13668128 0.13800877 0.12515967 0.13375078 0.14642455\n",
            " 0.14509706 0.13907519 0.14113331 0.14271392 0.14388852 0.14476314\n",
            " 0.14543642 0.14598341 0.14645424 0.14687906 0.1472742  0.14764814\n",
            " 0.14800502 0.14834709 0.14867619 0.14899388 0.14930177 0.14960143\n",
            " 0.1498943  0.1501815  0.15046409 0.15074292 0.15101844 0.15129116\n",
            " 0.15156135 0.15182927 0.15209496 0.15235855]\n",
            "27 day output [[0.15262006]]\n",
            "28 day input [0.10356919 0.10737633 0.10715091 0.10399499 0.10194114 0.10459612\n",
            " 0.11591735 0.11268629 0.11438948 0.11724483 0.11887289 0.12485911\n",
            " 0.12090169 0.11829681 0.10552286 0.10697558 0.10339386 0.10567314\n",
            " 0.10507201 0.09823419 0.09041954 0.09164684 0.0977082  0.10016281\n",
            " 0.10038823 0.09650595 0.0878397  0.09014402 0.08681277 0.08969317\n",
            " 0.08090169 0.08583594 0.08806512 0.09129618 0.09031935 0.09009393\n",
            " 0.08683782 0.085335   0.09247339 0.09517846 0.09946149 0.10499687\n",
            " 0.10624922 0.10680025 0.10482154 0.10469631 0.1063995  0.10522229\n",
            " 0.11453976 0.10760175 0.10549781 0.10815279 0.11183469 0.1105072\n",
            " 0.1113087  0.10920476 0.1101315  0.10289292 0.10276769 0.10807765\n",
            " 0.10810269 0.11060739 0.11684408 0.12781465 0.13452724 0.13570445\n",
            " 0.13668128 0.13800877 0.12515967 0.13375078 0.14642455 0.14509706\n",
            " 0.13907519 0.14113331 0.14271392 0.14388852 0.14476314 0.14543642\n",
            " 0.14598341 0.14645424 0.14687906 0.1472742  0.14764814 0.14800502\n",
            " 0.14834709 0.14867619 0.14899388 0.14930177 0.14960143 0.1498943\n",
            " 0.1501815  0.15046409 0.15074292 0.15101844 0.15129116 0.15156135\n",
            " 0.15182927 0.15209496 0.15235855 0.15262006]\n",
            "28 day output [[0.15287954]]\n",
            "29 day input [0.10737633 0.10715091 0.10399499 0.10194114 0.10459612 0.11591735\n",
            " 0.11268629 0.11438948 0.11724483 0.11887289 0.12485911 0.12090169\n",
            " 0.11829681 0.10552286 0.10697558 0.10339386 0.10567314 0.10507201\n",
            " 0.09823419 0.09041954 0.09164684 0.0977082  0.10016281 0.10038823\n",
            " 0.09650595 0.0878397  0.09014402 0.08681277 0.08969317 0.08090169\n",
            " 0.08583594 0.08806512 0.09129618 0.09031935 0.09009393 0.08683782\n",
            " 0.085335   0.09247339 0.09517846 0.09946149 0.10499687 0.10624922\n",
            " 0.10680025 0.10482154 0.10469631 0.1063995  0.10522229 0.11453976\n",
            " 0.10760175 0.10549781 0.10815279 0.11183469 0.1105072  0.1113087\n",
            " 0.10920476 0.1101315  0.10289292 0.10276769 0.10807765 0.10810269\n",
            " 0.11060739 0.11684408 0.12781465 0.13452724 0.13570445 0.13668128\n",
            " 0.13800877 0.12515967 0.13375078 0.14642455 0.14509706 0.13907519\n",
            " 0.14113331 0.14271392 0.14388852 0.14476314 0.14543642 0.14598341\n",
            " 0.14645424 0.14687906 0.1472742  0.14764814 0.14800502 0.14834709\n",
            " 0.14867619 0.14899388 0.14930177 0.14960143 0.1498943  0.1501815\n",
            " 0.15046409 0.15074292 0.15101844 0.15129116 0.15156135 0.15182927\n",
            " 0.15209496 0.15235855 0.15262006 0.15287954]\n",
            "29 day output [[0.15313692]]\n",
            "[[0.13907518982887268], [0.14113330841064453], [0.14271391928195953], [0.14388851821422577], [0.14476314187049866], [0.14543642103672028], [0.14598341286182404], [0.14645424485206604], [0.14687906205654144], [0.1472741961479187], [0.1476481407880783], [0.14800502359867096], [0.14834709465503693], [0.14867618680000305], [0.14899387955665588], [0.14930176734924316], [0.14960142970085144], [0.14989429712295532], [0.15018150210380554], [0.15046408772468567], [0.15074291825294495], [0.1510184407234192], [0.151291161775589], [0.15156134963035583], [0.15182927250862122], [0.15209496021270752], [0.1523585468530655], [0.15262006223201752], [0.152879536151886], [0.15313692390918732]]\n"
          ]
        }
      ]
    },
    {
      "cell_type": "code",
      "metadata": {
        "id": "4hXaWW57RCNC"
      },
      "source": [
        "day_new=np.arange(1,101)\n",
        "day_pred=np.arange(101,131)"
      ],
      "execution_count": null,
      "outputs": []
    },
    {
      "cell_type": "code",
      "metadata": {
        "id": "Hw-9dhq7RCPy"
      },
      "source": [
        "import matplotlib.pyplot as plt"
      ],
      "execution_count": null,
      "outputs": []
    },
    {
      "cell_type": "code",
      "metadata": {
        "colab": {
          "base_uri": "https://localhost:8080/"
        },
        "id": "GOWcuxtzR4Ev",
        "outputId": "41c7f08e-1875-448f-94be-896ff1033e03"
      },
      "source": [
        "len(df1)"
      ],
      "execution_count": null,
      "outputs": [
        {
          "output_type": "execute_result",
          "data": {
            "text/plain": [
              "1257"
            ]
          },
          "metadata": {},
          "execution_count": 53
        }
      ]
    },
    {
      "cell_type": "code",
      "metadata": {
        "colab": {
          "base_uri": "https://localhost:8080/",
          "height": 282
        },
        "id": "1uur-SxhR4IH",
        "outputId": "fd8534cc-95ac-420e-e107-33a6f9984233"
      },
      "source": [
        "plt.plot(day_new,scaler.inverse_transform(df1[1157:]))\n",
        "plt.plot(day_pred,scaler.inverse_transform(lst_output))"
      ],
      "execution_count": null,
      "outputs": [
        {
          "output_type": "execute_result",
          "data": {
            "text/plain": [
              "[<matplotlib.lines.Line2D at 0x7ff3342621d0>]"
            ]
          },
          "metadata": {},
          "execution_count": 55
        },
        {
          "output_type": "display_data",
          "data": {
            "image/png": "[encoded data removed]",
            "text/plain": [
              "<Figure size 432x288 with 1 Axes>"
            ]
          },
          "metadata": {
            "needs_background": "light"
          }
        }
      ]
    },
    {
      "cell_type": "code",
      "metadata": {
        "colab": {
          "base_uri": "https://localhost:8080/",
          "height": 282
        },
        "id": "wkTDjoZKR4LG",
        "outputId": "64b57119-755a-419e-8ebc-db484a475b65"
      },
      "source": [
        "df3=df1.tolist()\n",
        "df3.extend(lst_output)\n",
        "plt.plot(df3[1200:])"
      ],
      "execution_count": null,
      "outputs": [
        {
          "output_type": "execute_result",
          "data": {
            "text/plain": [
              "[<matplotlib.lines.Line2D at 0x7ff332cbc550>]"
            ]
          },
          "metadata": {},
          "execution_count": 56
        },
        {
          "output_type": "display_data",
          "data": {
            "image/png": "[encoded data removed]",
            "text/plain": [
              "<Figure size 432x288 with 1 Axes>"
            ]
          },
          "metadata": {
            "needs_background": "light"
          }
        }
      ]
    },
    {
      "cell_type": "code",
      "metadata": {
        "id": "hiUujjslR4PH"
      },
      "source": [
        "df3=scaler.inverse_transform(df3).tolist()"
      ],
      "execution_count": null,
      "outputs": []
    },
    {
      "cell_type": "code",
      "metadata": {
        "colab": {
          "base_uri": "https://localhost:8080/",
          "height": 282
        },
        "id": "LSwltkQKRCSG",
        "outputId": "2e97383f-99e5-494b-abc3-efc241cb8159"
      },
      "source": [
        "plt.plot(df3)"
      ],
      "execution_count": null,
      "outputs": [
        {
          "output_type": "execute_result",
          "data": {
            "text/plain": [
              "[<matplotlib.lines.Line2D at 0x7ff33401b090>]"
            ]
          },
          "metadata": {},
          "execution_count": 58
        },
        {
          "output_type": "display_data",
          "data": {
            "image/png": "[encoded data removed]",
            "text/plain": [
              "<Figure size 432x288 with 1 Axes>"
            ]
          },
          "metadata": {
            "needs_background": "light"
          }
        }
      ]
    }
  ]
}