{
  "nbformat": 4,
  "nbformat_minor": 0,
  "metadata": {
    "colab": {
      "name": "Word2Vec  NLP ",
      "provenance": [],
      "collapsed_sections": [],
      "authorship_tag": "ABX9TyPMhpWhNzFG8v7xxnNttPEr",
      "include_colab_link": true
    },
    "kernelspec": {
      "name": "python3",
      "display_name": "Python 3"
    },
    "language_info": {
      "name": "python"
    }
  },
  "cells": [
    {
      "cell_type": "markdown",
      "metadata": {
        "id": "view-in-github",
        "colab_type": "text"
      },
      "source": [
        "<a href=\"https://colab.research.google.com/github/Mahadi1416/Machine-learning/blob/main/Word2Vec_NLP.ipynb\" target=\"_parent\"><img src=\"https://colab.research.google.com/assets/colab-badge.svg\" alt=\"Open In Colab\"/></a>"
      ]
    },
    {
      "cell_type": "code",
      "execution_count": 8,
      "metadata": {
        "id": "swUpbmEcG2pH"
      },
      "outputs": [],
      "source": [
        "import nltk"
      ]
    },
    {
      "cell_type": "code",
      "source": [
        "import nltk\n",
        "nltk.download('punkt')\n",
        "nltk.download('stopwords')\n"
      ],
      "metadata": {
        "colab": {
          "base_uri": "https://localhost:8080/"
        },
        "id": "FSyUSFZ6HTeX",
        "outputId": "4e71a358-683f-4801-cb93-61bf52a8df3f"
      },
      "execution_count": 17,
      "outputs": [
        {
          "output_type": "stream",
          "name": "stdout",
          "text": [
            "[nltk_data] Downloading package punkt to /root/nltk_data...\n",
            "[nltk_data]   Package punkt is already up-to-date!\n",
            "[nltk_data] Downloading package stopwords to /root/nltk_data...\n",
            "[nltk_data]   Unzipping corpora/stopwords.zip.\n"
          ]
        },
        {
          "output_type": "execute_result",
          "data": {
            "text/plain": [
              "True"
            ]
          },
          "metadata": {},
          "execution_count": 17
        }
      ]
    },
    {
      "cell_type": "code",
      "source": [
        "### Normally word to vector  use for huge amount of data\n",
        "from gensim.models import Word2Vec\n",
        "from nltk.corpus import stopwords"
      ],
      "metadata": {
        "id": "_Ui35l_MG7EY"
      },
      "execution_count": 10,
      "outputs": []
    },
    {
      "cell_type": "code",
      "source": [
        "import re"
      ],
      "metadata": {
        "id": "B36dILOEG7HX"
      },
      "execution_count": 11,
      "outputs": []
    },
    {
      "cell_type": "code",
      "source": [
        "paragraph = \"\"\"I have three visions for India. In 3000 years of our history, people from all over \n",
        "               the world have come and invaded us, captured our lands, conquered our minds. \n",
        "               From Alexander onwards, the Greeks, the Turks, the Moguls, the Portuguese, the British,\n",
        "               the French, the Dutch, all of them came and looted us, took over what was ours. \n",
        "               Yet we have not done this to any other nation. We have not conquered anyone. \n",
        "               We have not grabbed their land, their culture, \n",
        "               their history and tried to enforce our way of life on them. \n",
        "               Why? Because we respect the freedom of others.That is why my \n",
        "               first vision is that of freedom. I believe that India got its first vision of \n",
        "               this in 1857, when we started the War of Independence. It is this freedom that\n",
        "               we must protect and nurture and build on. If we are not free, no one will respect us.\n",
        "               My second vision for India’s development. For fifty years we have been a developing nation.\n",
        "               It is time we see ourselves as a developed nation. We are among the top 5 nations of the world\n",
        "               in terms of GDP. We have a 10 percent growth rate in most areas. Our poverty levels are falling.\n",
        "               Our achievements are being globally recognised today. Yet we lack the self-confidence to\n",
        "               see ourselves as a developed nation, self-reliant and self-assured. Isn’t this incorrect?\n",
        "               I have a third vision. India must stand up to the world. Because I believe that unless India \n",
        "               stands up to the world, no one will respect us. Only strength respects strength. We must be \n",
        "               strong not only as a military power but also as an economic power. Both must go hand-in-hand. \n",
        "               My good fortune was to have worked with three great minds. Dr. Vikram Sarabhai of the Dept. of \n",
        "               space, Professor Satish Dhawan, who succeeded him and Dr. Brahm Prakash, father of nuclear material.\n",
        "               I was lucky to have worked with all three of them closely and consider this the great opportunity of my life. \n",
        "               I see four milestones in my career\"\"\""
      ],
      "metadata": {
        "id": "_qz2GeuFG7J4"
      },
      "execution_count": 12,
      "outputs": []
    },
    {
      "cell_type": "code",
      "source": [
        "# Preprocessing the data\n",
        "text = re.sub(r'\\[[0-9]*\\]',' ',paragraph)\n",
        "text = re.sub(r'\\s+',' ',text)\n",
        "text = text.lower()\n",
        "text = re.sub(r'\\d',' ',text)\n",
        "text = re.sub(r'\\s+',' ',text)"
      ],
      "metadata": {
        "id": "f2enKAWJHJIf"
      },
      "execution_count": 13,
      "outputs": []
    },
    {
      "cell_type": "code",
      "source": [
        "\n",
        "# Preparing the dataset\n",
        "sentences = nltk.sent_tokenize(text)"
      ],
      "metadata": {
        "id": "kp8G100jHJLG"
      },
      "execution_count": 14,
      "outputs": []
    },
    {
      "cell_type": "code",
      "source": [
        "sentences = [nltk.word_tokenize(sentence) for sentence in sentences]"
      ],
      "metadata": {
        "id": "XeWtRXcGHJN2"
      },
      "execution_count": 15,
      "outputs": []
    },
    {
      "cell_type": "code",
      "source": [
        "for i in range(len(sentences)):\n",
        "    sentences[i] = [word for word in sentences[i] if word not in stopwords.words('english')]"
      ],
      "metadata": {
        "id": "1bxIdk_CHfyn"
      },
      "execution_count": 18,
      "outputs": []
    },
    {
      "cell_type": "code",
      "source": [
        "# Training the Word2Vec model\n",
        "### min_count means if the word is not present more than 1 time then delet.It can be any number depending on the data\n",
        "model = Word2Vec(sentences, min_count=1)"
      ],
      "metadata": {
        "id": "2OeE6_6yHf1o"
      },
      "execution_count": 19,
      "outputs": []
    },
    {
      "cell_type": "code",
      "source": [
        "## find vocavollary in this words\n",
        "words = model.wv.vocab"
      ],
      "metadata": {
        "id": "jqRbYExRHrJO"
      },
      "execution_count": 27,
      "outputs": []
    },
    {
      "cell_type": "code",
      "source": [
        "words"
      ],
      "metadata": {
        "colab": {
          "base_uri": "https://localhost:8080/"
        },
        "id": "szAAaTerJLgO",
        "outputId": "ecedbf43-1af5-437d-bc91-ce8a59267675"
      },
      "execution_count": 28,
      "outputs": [
        {
          "output_type": "execute_result",
          "data": {
            "text/plain": [
              "{',': <gensim.models.keyedvectors.Vocab at 0x7f6568738fd0>,\n",
              " '.': <gensim.models.keyedvectors.Vocab at 0x7f6568738a90>,\n",
              " '?': <gensim.models.keyedvectors.Vocab at 0x7f6568738290>,\n",
              " 'achievements': <gensim.models.keyedvectors.Vocab at 0x7f6568d526d0>,\n",
              " 'alexander': <gensim.models.keyedvectors.Vocab at 0x7f6568738210>,\n",
              " 'also': <gensim.models.keyedvectors.Vocab at 0x7f65687952d0>,\n",
              " 'among': <gensim.models.keyedvectors.Vocab at 0x7f656879b990>,\n",
              " 'anyone': <gensim.models.keyedvectors.Vocab at 0x7f6568738590>,\n",
              " 'areas': <gensim.models.keyedvectors.Vocab at 0x7f6568d52f90>,\n",
              " 'believe': <gensim.models.keyedvectors.Vocab at 0x7f6568738d90>,\n",
              " 'brahm': <gensim.models.keyedvectors.Vocab at 0x7f6568795490>,\n",
              " 'british': <gensim.models.keyedvectors.Vocab at 0x7f65687383d0>,\n",
              " 'build': <gensim.models.keyedvectors.Vocab at 0x7f65687a5710>,\n",
              " 'came': <gensim.models.keyedvectors.Vocab at 0x7f6568738550>,\n",
              " 'captured': <gensim.models.keyedvectors.Vocab at 0x7f6568738bd0>,\n",
              " 'career': <gensim.models.keyedvectors.Vocab at 0x7f6568929350>,\n",
              " 'closely': <gensim.models.keyedvectors.Vocab at 0x7f6568795d90>,\n",
              " 'come': <gensim.models.keyedvectors.Vocab at 0x7f65687385d0>,\n",
              " 'conquered': <gensim.models.keyedvectors.Vocab at 0x7f6568738f10>,\n",
              " 'consider': <gensim.models.keyedvectors.Vocab at 0x7f6568795450>,\n",
              " 'culture': <gensim.models.keyedvectors.Vocab at 0x7f6568738f90>,\n",
              " 'dept': <gensim.models.keyedvectors.Vocab at 0x7f6568795d10>,\n",
              " 'developed': <gensim.models.keyedvectors.Vocab at 0x7f656879bd50>,\n",
              " 'developing': <gensim.models.keyedvectors.Vocab at 0x7f656879b0d0>,\n",
              " 'development': <gensim.models.keyedvectors.Vocab at 0x7f65687a5350>,\n",
              " 'dhawan': <gensim.models.keyedvectors.Vocab at 0x7f6568795a10>,\n",
              " 'done': <gensim.models.keyedvectors.Vocab at 0x7f6568738250>,\n",
              " 'dr.': <gensim.models.keyedvectors.Vocab at 0x7f6568795a50>,\n",
              " 'dutch': <gensim.models.keyedvectors.Vocab at 0x7f65687386d0>,\n",
              " 'economic': <gensim.models.keyedvectors.Vocab at 0x7f6568795590>,\n",
              " 'enforce': <gensim.models.keyedvectors.Vocab at 0x7f6568738a50>,\n",
              " 'falling': <gensim.models.keyedvectors.Vocab at 0x7f6568d52810>,\n",
              " 'father': <gensim.models.keyedvectors.Vocab at 0x7f6568795850>,\n",
              " 'fifty': <gensim.models.keyedvectors.Vocab at 0x7f6568dee490>,\n",
              " 'first': <gensim.models.keyedvectors.Vocab at 0x7f6568738e50>,\n",
              " 'fortune': <gensim.models.keyedvectors.Vocab at 0x7f6568795fd0>,\n",
              " 'four': <gensim.models.keyedvectors.Vocab at 0x7f65687956d0>,\n",
              " 'free': <gensim.models.keyedvectors.Vocab at 0x7f65687a5c90>,\n",
              " 'freedom': <gensim.models.keyedvectors.Vocab at 0x7f6568738ed0>,\n",
              " 'french': <gensim.models.keyedvectors.Vocab at 0x7f6568738790>,\n",
              " 'gdp': <gensim.models.keyedvectors.Vocab at 0x7f656879b7d0>,\n",
              " 'globally': <gensim.models.keyedvectors.Vocab at 0x7f6568d52c90>,\n",
              " 'go': <gensim.models.keyedvectors.Vocab at 0x7f6568795950>,\n",
              " 'good': <gensim.models.keyedvectors.Vocab at 0x7f6568795550>,\n",
              " 'got': <gensim.models.keyedvectors.Vocab at 0x7f6568738c90>,\n",
              " 'grabbed': <gensim.models.keyedvectors.Vocab at 0x7f6568738450>,\n",
              " 'great': <gensim.models.keyedvectors.Vocab at 0x7f6568795ad0>,\n",
              " 'greeks': <gensim.models.keyedvectors.Vocab at 0x7f6568738890>,\n",
              " 'growth': <gensim.models.keyedvectors.Vocab at 0x7f65695dee50>,\n",
              " 'hand-in-hand': <gensim.models.keyedvectors.Vocab at 0x7f6568795f10>,\n",
              " 'history': <gensim.models.keyedvectors.Vocab at 0x7f6568738310>,\n",
              " 'incorrect': <gensim.models.keyedvectors.Vocab at 0x7f65688c9f50>,\n",
              " 'independence': <gensim.models.keyedvectors.Vocab at 0x7f6568738b90>,\n",
              " 'india': <gensim.models.keyedvectors.Vocab at 0x7f6568738810>,\n",
              " 'invaded': <gensim.models.keyedvectors.Vocab at 0x7f6568738410>,\n",
              " 'lack': <gensim.models.keyedvectors.Vocab at 0x7f6568d52fd0>,\n",
              " 'land': <gensim.models.keyedvectors.Vocab at 0x7f65687382d0>,\n",
              " 'lands': <gensim.models.keyedvectors.Vocab at 0x7f65687389d0>,\n",
              " 'levels': <gensim.models.keyedvectors.Vocab at 0x7f6568d522d0>,\n",
              " 'life': <gensim.models.keyedvectors.Vocab at 0x7f6568738cd0>,\n",
              " 'looted': <gensim.models.keyedvectors.Vocab at 0x7f6568738650>,\n",
              " 'lucky': <gensim.models.keyedvectors.Vocab at 0x7f6568795dd0>,\n",
              " 'material': <gensim.models.keyedvectors.Vocab at 0x7f6568795b50>,\n",
              " 'milestones': <gensim.models.keyedvectors.Vocab at 0x7f65688d0950>,\n",
              " 'military': <gensim.models.keyedvectors.Vocab at 0x7f65687953d0>,\n",
              " 'minds': <gensim.models.keyedvectors.Vocab at 0x7f6568738850>,\n",
              " 'moguls': <gensim.models.keyedvectors.Vocab at 0x7f6568738390>,\n",
              " 'must': <gensim.models.keyedvectors.Vocab at 0x7f6568738c10>,\n",
              " 'nation': <gensim.models.keyedvectors.Vocab at 0x7f65687381d0>,\n",
              " 'nations': <gensim.models.keyedvectors.Vocab at 0x7f656879bad0>,\n",
              " 'nuclear': <gensim.models.keyedvectors.Vocab at 0x7f6568795b10>,\n",
              " 'nurture': <gensim.models.keyedvectors.Vocab at 0x7f6568738090>,\n",
              " 'one': <gensim.models.keyedvectors.Vocab at 0x7f65687a5550>,\n",
              " 'onwards': <gensim.models.keyedvectors.Vocab at 0x7f6568738150>,\n",
              " 'opportunity': <gensim.models.keyedvectors.Vocab at 0x7f6568795f90>,\n",
              " 'others.that': <gensim.models.keyedvectors.Vocab at 0x7f6568738e90>,\n",
              " 'people': <gensim.models.keyedvectors.Vocab at 0x7f6568738dd0>,\n",
              " 'percent': <gensim.models.keyedvectors.Vocab at 0x7f656879bf50>,\n",
              " 'portuguese': <gensim.models.keyedvectors.Vocab at 0x7f65687387d0>,\n",
              " 'poverty': <gensim.models.keyedvectors.Vocab at 0x7f6568d52590>,\n",
              " 'power': <gensim.models.keyedvectors.Vocab at 0x7f6568795b90>,\n",
              " 'prakash': <gensim.models.keyedvectors.Vocab at 0x7f6568795e90>,\n",
              " 'professor': <gensim.models.keyedvectors.Vocab at 0x7f6568795610>,\n",
              " 'protect': <gensim.models.keyedvectors.Vocab at 0x7f65687380d0>,\n",
              " 'rate': <gensim.models.keyedvectors.Vocab at 0x7f6568d52dd0>,\n",
              " 'recognised': <gensim.models.keyedvectors.Vocab at 0x7f6568d52750>,\n",
              " 'respect': <gensim.models.keyedvectors.Vocab at 0x7f6568738190>,\n",
              " 'respects': <gensim.models.keyedvectors.Vocab at 0x7f6568795a90>,\n",
              " 'sarabhai': <gensim.models.keyedvectors.Vocab at 0x7f6568795710>,\n",
              " 'satish': <gensim.models.keyedvectors.Vocab at 0x7f6568795c90>,\n",
              " 'second': <gensim.models.keyedvectors.Vocab at 0x7f65687a5c50>,\n",
              " 'see': <gensim.models.keyedvectors.Vocab at 0x7f656879bd10>,\n",
              " 'self-assured': <gensim.models.keyedvectors.Vocab at 0x7f6568d52490>,\n",
              " 'self-confidence': <gensim.models.keyedvectors.Vocab at 0x7f6568d52b10>,\n",
              " 'self-reliant': <gensim.models.keyedvectors.Vocab at 0x7f6568d52510>,\n",
              " 'space': <gensim.models.keyedvectors.Vocab at 0x7f6568795910>,\n",
              " 'stand': <gensim.models.keyedvectors.Vocab at 0x7f6568d98650>,\n",
              " 'stands': <gensim.models.keyedvectors.Vocab at 0x7f6568d98590>,\n",
              " 'started': <gensim.models.keyedvectors.Vocab at 0x7f6568738b50>,\n",
              " 'strength': <gensim.models.keyedvectors.Vocab at 0x7f6583f6d5d0>,\n",
              " 'strong': <gensim.models.keyedvectors.Vocab at 0x7f6568795990>,\n",
              " 'succeeded': <gensim.models.keyedvectors.Vocab at 0x7f6568795bd0>,\n",
              " 'terms': <gensim.models.keyedvectors.Vocab at 0x7f656879b350>,\n",
              " 'third': <gensim.models.keyedvectors.Vocab at 0x7f6568792ed0>,\n",
              " 'three': <gensim.models.keyedvectors.Vocab at 0x7f6568738c50>,\n",
              " 'time': <gensim.models.keyedvectors.Vocab at 0x7f656879b550>,\n",
              " 'today': <gensim.models.keyedvectors.Vocab at 0x7f6568d52610>,\n",
              " 'took': <gensim.models.keyedvectors.Vocab at 0x7f6568738750>,\n",
              " 'top': <gensim.models.keyedvectors.Vocab at 0x7f656879b250>,\n",
              " 'tried': <gensim.models.keyedvectors.Vocab at 0x7f6568738050>,\n",
              " 'turks': <gensim.models.keyedvectors.Vocab at 0x7f6568738d10>,\n",
              " 'unless': <gensim.models.keyedvectors.Vocab at 0x7f6568d98490>,\n",
              " 'us': <gensim.models.keyedvectors.Vocab at 0x7f6568738ad0>,\n",
              " 'vikram': <gensim.models.keyedvectors.Vocab at 0x7f6568795c10>,\n",
              " 'vision': <gensim.models.keyedvectors.Vocab at 0x7f6568738e10>,\n",
              " 'visions': <gensim.models.keyedvectors.Vocab at 0x7f6568738910>,\n",
              " 'war': <gensim.models.keyedvectors.Vocab at 0x7f6568738a10>,\n",
              " 'way': <gensim.models.keyedvectors.Vocab at 0x7f6568738350>,\n",
              " 'worked': <gensim.models.keyedvectors.Vocab at 0x7f6568795e10>,\n",
              " 'world': <gensim.models.keyedvectors.Vocab at 0x7f6568738690>,\n",
              " 'years': <gensim.models.keyedvectors.Vocab at 0x7f6568738d50>,\n",
              " 'yet': <gensim.models.keyedvectors.Vocab at 0x7f6568738710>,\n",
              " '’': <gensim.models.keyedvectors.Vocab at 0x7f65687a5c10>}"
            ]
          },
          "metadata": {},
          "execution_count": 28
        }
      ]
    },
    {
      "cell_type": "code",
      "source": [
        "# Finding Word Vectors\n",
        "## vector of this perticular word\n",
        "vector = model.wv['war']\n"
      ],
      "metadata": {
        "id": "yc3hsgI9HrMW"
      },
      "execution_count": 25,
      "outputs": []
    },
    {
      "cell_type": "code",
      "source": [
        "vector"
      ],
      "metadata": {
        "colab": {
          "base_uri": "https://localhost:8080/"
        },
        "id": "4eR1baP6JWPG",
        "outputId": "ca9e5fd1-8699-45f8-e6af-c878ae2fb93b"
      },
      "execution_count": 29,
      "outputs": [
        {
          "output_type": "execute_result",
          "data": {
            "text/plain": [
              "array([-3.0995090e-03, -3.1357657e-03, -2.3789067e-05, -4.2616148e-03,\n",
              "        2.2618338e-03,  1.5822806e-03, -4.8141647e-03, -2.1552569e-03,\n",
              "       -2.8043524e-03,  4.8960252e-03, -4.4320924e-03,  3.6865277e-03,\n",
              "       -3.3191280e-03,  3.8630941e-03,  4.9296743e-03, -4.4507156e-03,\n",
              "       -3.5684400e-03, -3.7183461e-03, -1.2825852e-03,  3.1837025e-03,\n",
              "        1.1801339e-03,  2.3070015e-03, -3.3261643e-03, -1.6637781e-03,\n",
              "        4.9189692e-03, -2.6424914e-03,  3.0004468e-03, -1.9501724e-03,\n",
              "        4.4989930e-03,  3.3209287e-03, -1.9087816e-03, -1.7999368e-03,\n",
              "       -3.2390788e-05,  2.3194989e-03, -3.6867834e-03,  2.0664134e-03,\n",
              "        3.3973856e-03,  4.0640375e-03, -1.1542430e-03,  3.8214780e-03,\n",
              "       -1.7546517e-03,  2.5112652e-03, -3.3193834e-03,  4.0092347e-03,\n",
              "       -7.0276653e-04, -5.0218048e-04,  1.9337198e-03,  1.8986808e-03,\n",
              "       -2.1660887e-04,  4.9609174e-03,  2.9783305e-03,  1.1500866e-04,\n",
              "       -1.6204077e-03,  4.3098438e-03,  5.3937441e-05,  2.5732394e-03,\n",
              "       -1.2362110e-03, -7.4879627e-04, -1.3861514e-03,  2.7312802e-03,\n",
              "       -1.8022679e-03,  4.6228096e-03, -3.5459292e-03, -3.5550685e-03,\n",
              "       -3.8927910e-03, -7.7186577e-04,  4.6257330e-03,  3.1676894e-04,\n",
              "       -4.6295351e-03,  1.6320170e-03, -1.4316713e-03,  2.8011110e-03,\n",
              "        2.8111243e-03,  4.4576637e-03,  4.2341431e-03, -3.4680462e-03,\n",
              "       -4.2950734e-03, -1.4127574e-03, -1.2961079e-03, -1.5055359e-03,\n",
              "        7.0169597e-04,  2.1132266e-03,  2.6427668e-03,  4.0904135e-03,\n",
              "        1.0443409e-03, -4.6176248e-04,  1.7841408e-03, -2.0253365e-03,\n",
              "       -2.9966470e-03, -1.1642062e-03, -2.5010686e-03, -7.4807525e-04,\n",
              "       -4.2364458e-03, -4.5597423e-03, -4.7653178e-03, -2.7456664e-04,\n",
              "        1.7843810e-03,  1.1311728e-03,  2.3671906e-03, -1.8821926e-03],\n",
              "      dtype=float32)"
            ]
          },
          "metadata": {},
          "execution_count": 29
        }
      ]
    },
    {
      "cell_type": "code",
      "source": [
        "# Most similar words\n",
        "similar = model.wv.most_similar('vikram')"
      ],
      "metadata": {
        "id": "y17OFarzIThn"
      },
      "execution_count": 26,
      "outputs": []
    },
    {
      "cell_type": "code",
      "source": [
        "similar"
      ],
      "metadata": {
        "colab": {
          "base_uri": "https://localhost:8080/"
        },
        "id": "LUvrNpIuJkt-",
        "outputId": "299b9aea-fce9-4d77-e8eb-9c421a3e678f"
      },
      "execution_count": 30,
      "outputs": [
        {
          "output_type": "execute_result",
          "data": {
            "text/plain": [
              "[('started', 0.2209320366382599),\n",
              " ('visions', 0.20741482079029083),\n",
              " ('come', 0.19176724553108215),\n",
              " ('areas', 0.19116881489753723),\n",
              " ('professor', 0.18839946389198303),\n",
              " ('dutch', 0.1870577335357666),\n",
              " ('land', 0.18592903017997742),\n",
              " ('material', 0.17774304747581482),\n",
              " ('falling', 0.16547268629074097),\n",
              " ('minds', 0.14886263012886047)]"
            ]
          },
          "metadata": {},
          "execution_count": 30
        }
      ]
    }
  ]
}